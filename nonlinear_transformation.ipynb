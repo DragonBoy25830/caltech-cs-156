{
 "cells": [
  {
   "cell_type": "code",
   "execution_count": 1,
   "metadata": {},
   "outputs": [],
   "source": [
    "import numpy as np\n",
    "from statistics import mean\n",
    "import random as rand\n",
    "import matplotlib.pyplot as plt"
   ]
  },
  {
   "cell_type": "code",
   "execution_count": 2,
   "metadata": {},
   "outputs": [],
   "source": [
    "num_experiments = 1000\n",
    "num_points = 1000\n",
    "noise_rate = 0.1"
   ]
  },
  {
   "cell_type": "code",
   "execution_count": 3,
   "metadata": {},
   "outputs": [],
   "source": [
    "Ein = []"
   ]
  },
  {
   "cell_type": "code",
   "execution_count": 4,
   "metadata": {},
   "outputs": [],
   "source": [
    "def target_function(x1, x2):\n",
    "    value = x1 * x1 + x2 * x2 - 0.6\n",
    "    \n",
    "    if value > 0:\n",
    "        return 1\n",
    "    return -1"
   ]
  },
  {
   "cell_type": "code",
   "execution_count": 5,
   "metadata": {},
   "outputs": [],
   "source": [
    "def classify_point(m, b, x, y):\n",
    "    expected_value = m * x + b\n",
    "    \n",
    "    if y >= expected_value:\n",
    "        return 1\n",
    "    else:\n",
    "        return -1"
   ]
  },
  {
   "cell_type": "code",
   "execution_count": 6,
   "metadata": {},
   "outputs": [],
   "source": [
    "def calculate_E(E, f, g):\n",
    "    E_curr = 0\n",
    "\n",
    "    for i in range(len(g)):\n",
    "        if f[i] != g[i]:\n",
    "            E_curr += 1\n",
    "\n",
    "    E.append(E_curr / num_points)"
   ]
  },
  {
   "cell_type": "code",
   "execution_count": 7,
   "metadata": {},
   "outputs": [],
   "source": [
    "def generate_noise(xn, yn):\n",
    "    indices = rand.sample(range(num_points), int(noise_rate * num_points))\n",
    "    xn_ret, yn_ret = [], []\n",
    "    \n",
    "    for i in range(num_experiments):\n",
    "        xn_ret.append(xn[i])\n",
    "        if i in indices:\n",
    "            yn_ret.append(-1 * yn[i])\n",
    "        else:\n",
    "            yn_ret.append(yn[i])\n",
    "    return xn_ret, yn_ret"
   ]
  },
  {
   "cell_type": "code",
   "execution_count": 8,
   "metadata": {},
   "outputs": [],
   "source": [
    "def run_experiment():\n",
    "    bias = [1] * num_points\n",
    "    x1 = [rand.uniform(-1, 1) for _ in range(num_points)]\n",
    "    x2 = [rand.uniform(-1, 1) for _ in range(num_points)]\n",
    "\n",
    "    xn = np.column_stack((x1, x2))\n",
    "    yn = [target_function(x, y) for (x, y) in xn]\n",
    "    \n",
    "    xn, yn = generate_noise(xn, yn)\n",
    "    \n",
    "    xn_bias = np.column_stack((bias, xn))\n",
    "    \n",
    "    matrix_X = np.array(xn)\n",
    "    matrix_X_bias = np.array(xn_bias)\n",
    "    matrix_y = np.array(yn)\n",
    "    \n",
    "    w = np.matmul(np.linalg.pinv(matrix_X_bias), matrix_y)\n",
    "\n",
    "    m_g = -1 * w[1] / w[2]\n",
    "    b_g = -1 * w[0] / w[2]\n",
    "    \n",
    "    gn = [classify_point(m_g, b_g, x, y) for (x, y) in matrix_X]\n",
    "\n",
    "    calculate_E(Ein, yn, gn)"
   ]
  },
  {
   "cell_type": "code",
   "execution_count": 9,
   "metadata": {},
   "outputs": [],
   "source": [
    "for i in range(num_experiments):\n",
    "    run_experiment()"
   ]
  },
  {
   "cell_type": "code",
   "execution_count": 10,
   "metadata": {},
   "outputs": [
    {
     "data": {
      "text/plain": [
       "0.500112"
      ]
     },
     "execution_count": 10,
     "metadata": {},
     "output_type": "execute_result"
    }
   ],
   "source": [
    "mean(Ein)"
   ]
  },
  {
   "cell_type": "markdown",
   "metadata": {},
   "source": [
    "Non-Linear Transformation"
   ]
  },
  {
   "cell_type": "code",
   "execution_count": 11,
   "metadata": {},
   "outputs": [],
   "source": [
    "def transform_data(x1, x2):\n",
    "    return (1, x1, x2, x1 * x2, x1**2, x2**2)"
   ]
  },
  {
   "cell_type": "code",
   "execution_count": 12,
   "metadata": {},
   "outputs": [],
   "source": [
    "weights = []"
   ]
  },
  {
   "cell_type": "code",
   "execution_count": 13,
   "metadata": {},
   "outputs": [],
   "source": [
    "def classify_point_nonlinear(w, z):\n",
    "    signal = np.dot(w, z)\n",
    "    \n",
    "    if signal > 0:\n",
    "        return 1\n",
    "    else:\n",
    "        return -1"
   ]
  },
  {
   "cell_type": "code",
   "execution_count": 14,
   "metadata": {},
   "outputs": [],
   "source": [
    "g_a = [-1, -0.05, 0.08, 0.13, 1.5, 1.5]\n",
    "g_b = [-1, -0.05, 0.08, 0.13, 1.5, 15 ]\n",
    "g_c = [-1, -0.05, 0.08, 0.13, 15 , 1.5]\n",
    "g_d = [-1, -1.50, 0.08, 0.13, .05, .05]\n",
    "g_e = [-1, -0.05, 0.08, 1.50, .15, .15]\n",
    "\n",
    "g_set = [g_a, g_b, g_c, g_d, g_e]\n",
    "error = []"
   ]
  },
  {
   "cell_type": "code",
   "execution_count": 15,
   "metadata": {},
   "outputs": [],
   "source": [
    "def compare_w_with_g(w, z_transform):\n",
    "    agreement_ret = []\n",
    "    for z in z_transform:\n",
    "        w_val = np.sign(np.dot(w, z))\n",
    "\n",
    "        agreement = []\n",
    "        for g in g_set:\n",
    "            counter = 0\n",
    "            \n",
    "            g_val = np.sign(np.dot(g, z))\n",
    "            \n",
    "            for _ in range(num_points):\n",
    "                if w_val == g_val:\n",
    "                    counter += 1\n",
    "            \n",
    "            agreement.append(counter / num_points)\n",
    "        agreement_ret.append(agreement)\n",
    "\n",
    "    return agreement_ret"
   ]
  },
  {
   "cell_type": "code",
   "execution_count": 16,
   "metadata": {},
   "outputs": [],
   "source": [
    "def run_experiment():\n",
    "    x1 = [rand.uniform(-1, 1) for _ in range(num_points)]\n",
    "    x2 = [rand.uniform(-1, 1) for _ in range(num_points)]\n",
    "\n",
    "    xn = np.column_stack((x1, x2))\n",
    "    yn = [target_function(x, y) for (x, y) in xn]\n",
    "    \n",
    "    z_noise, yn = generate_noise(xn, yn)\n",
    "    \n",
    "    z_transform = [transform_data(x, y) for (x, y) in z_noise]\n",
    "\n",
    "    matrix_y = np.array(yn)\n",
    "    \n",
    "    w = np.matmul(np.linalg.pinv(z_transform), matrix_y)\n",
    "    \n",
    "    error_curr = compare_w_with_g(w, z_transform)\n",
    "    error.append(error_curr)"
   ]
  },
  {
   "cell_type": "code",
   "execution_count": 17,
   "metadata": {},
   "outputs": [],
   "source": [
    "for i in range(num_experiments):\n",
    "    run_experiment()"
   ]
  },
  {
   "cell_type": "code",
   "execution_count": 18,
   "metadata": {},
   "outputs": [],
   "source": [
    "final = []"
   ]
  },
  {
   "cell_type": "code",
   "execution_count": 20,
   "metadata": {},
   "outputs": [],
   "source": [
    "for i in range(5):\n",
    "    temp = []\n",
    "    for e_curr in error:\n",
    "        for point in e_curr:\n",
    "            temp.append(point[i])\n",
    "    final.append(mean(temp))"
   ]
  },
  {
   "cell_type": "code",
   "execution_count": 21,
   "metadata": {},
   "outputs": [
    {
     "data": {
      "text/plain": [
       "[0.961583, 0.664859, 0.663679, 0.631732, 0.558792]"
      ]
     },
     "execution_count": 21,
     "metadata": {},
     "output_type": "execute_result"
    }
   ],
   "source": [
    "final"
   ]
  },
  {
   "cell_type": "markdown",
   "metadata": {},
   "source": [
    "Out of Sample Error"
   ]
  },
  {
   "cell_type": "code",
   "execution_count": 22,
   "metadata": {},
   "outputs": [],
   "source": [
    "Eout = []"
   ]
  },
  {
   "cell_type": "code",
   "execution_count": 23,
   "metadata": {},
   "outputs": [],
   "source": [
    "def generate_out_of_sample():\n",
    "    x1 = [rand.uniform(-1, 1) for _ in range(num_points)]\n",
    "    x2 = [rand.uniform(-1, 1) for _ in range(num_points)]\n",
    "    return x1, x2"
   ]
  },
  {
   "cell_type": "code",
   "execution_count": 24,
   "metadata": {},
   "outputs": [
    {
     "data": {
      "text/plain": [
       "0.123954"
      ]
     },
     "execution_count": 24,
     "metadata": {},
     "output_type": "execute_result"
    }
   ],
   "source": [
    "for i in range(num_experiments):\n",
    "    x1, x2 = generate_out_of_sample()\n",
    "    xn = np.column_stack((x1, x2))\n",
    "    yn = [target_function(x, y) for (x, y) in xn]\n",
    "    \n",
    "    z_noise, yn = generate_noise(xn, yn)\n",
    "    z_transform = [transform_data(x, y) for (x, y) in z_noise]\n",
    "    \n",
    "    w = np.matmul(np.linalg.pinv(z_transform), yn)\n",
    "    f_classfication = yn\n",
    "    w_classfication = [classify_point_nonlinear(w, z) for z in z_transform]\n",
    "    \n",
    "    calculate_E(Eout, f_classfication, w_classfication)\n",
    "\n",
    "mean(Eout)"
   ]
  },
  {
   "cell_type": "code",
   "execution_count": null,
   "metadata": {},
   "outputs": [],
   "source": []
  }
 ],
 "metadata": {
  "kernelspec": {
   "display_name": "Python 3",
   "language": "python",
   "name": "python3"
  },
  "language_info": {
   "codemirror_mode": {
    "name": "ipython",
    "version": 3
   },
   "file_extension": ".py",
   "mimetype": "text/x-python",
   "name": "python",
   "nbconvert_exporter": "python",
   "pygments_lexer": "ipython3",
   "version": "3.10.7"
  }
 },
 "nbformat": 4,
 "nbformat_minor": 2
}
