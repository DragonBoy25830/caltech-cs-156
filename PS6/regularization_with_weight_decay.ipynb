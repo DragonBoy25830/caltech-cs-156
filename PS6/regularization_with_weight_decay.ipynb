{
 "cells": [
  {
   "cell_type": "markdown",
   "metadata": {},
   "source": [
    "Question 2"
   ]
  },
  {
   "cell_type": "code",
   "execution_count": 13,
   "metadata": {},
   "outputs": [],
   "source": [
    "import numpy as np"
   ]
  },
  {
   "cell_type": "code",
   "execution_count": 14,
   "metadata": {},
   "outputs": [],
   "source": [
    "training_set = []\n",
    "testing_set = []"
   ]
  },
  {
   "cell_type": "code",
   "execution_count": 15,
   "metadata": {},
   "outputs": [],
   "source": [
    "with open('data_in.txt', 'r') as f:\n",
    "    for line in f:\n",
    "        training_set.append([float(x) for x in line.split()])\n",
    "\n",
    "with open('data_out.txt', 'r') as f:\n",
    "    for line in f:\n",
    "        testing_set.append([float(x) for x in line.split()])"
   ]
  },
  {
   "cell_type": "code",
   "execution_count": 16,
   "metadata": {},
   "outputs": [],
   "source": [
    "np_training_set = np.array(training_set)\n",
    "np_testing_set = np.array(testing_set)"
   ]
  },
  {
   "cell_type": "code",
   "execution_count": 17,
   "metadata": {},
   "outputs": [],
   "source": [
    "def transform_data(x1, x2):\n",
    "    return (1, x1, x2, x1**2, x2**2, x1 * x2, np.abs(x1 - x2), np.abs(x1 + x2))"
   ]
  },
  {
   "cell_type": "code",
   "execution_count": 18,
   "metadata": {},
   "outputs": [],
   "source": [
    "def calc_error(classification, w, z_transform):\n",
    "    yn = classification\n",
    "    counter = 0\n",
    "    for i in range(len(z_transform)):\n",
    "        z = z_transform[i]\n",
    "        w_val = np.sign(np.dot(w, z))\n",
    "        \n",
    "        if w_val != yn[i]:\n",
    "            counter += 1\n",
    "    \n",
    "    return counter / len(classification)"
   ]
  },
  {
   "cell_type": "code",
   "execution_count": 19,
   "metadata": {},
   "outputs": [],
   "source": [
    "def get_x_values(dataset):\n",
    "    dataset = np.array(dataset)\n",
    "    x1 = dataset[:, 0]\n",
    "    x2 = dataset[:, 1]\n",
    "\n",
    "    return np.column_stack((x1, x2))"
   ]
  },
  {
   "cell_type": "code",
   "execution_count": 20,
   "metadata": {},
   "outputs": [],
   "source": [
    "def run_linear_regression_experiment():\n",
    "    train_xn = get_x_values(training_set)\n",
    "    train_yn = np_training_set[:, 2]\n",
    "    \n",
    "    test_xn = get_x_values(testing_set)\n",
    "    test_yn = np_testing_set[:, 2]\n",
    "\n",
    "    train_xn_transform = [transform_data(x1, x2) for (x1, x2) in train_xn]\n",
    "    test_xn_transform = [transform_data(x1, x2) for (x1, x2) in test_xn]\n",
    "    \n",
    "    w = np.matmul(np.linalg.pinv(train_xn_transform), train_yn)\n",
    "\n",
    "    E_in = calc_error(train_yn, w, train_xn_transform)\n",
    "    E_out = calc_error(test_yn, w, test_xn_transform)\n",
    "\n",
    "    return E_in, E_out"
   ]
  },
  {
   "cell_type": "code",
   "execution_count": 21,
   "metadata": {},
   "outputs": [
    {
     "data": {
      "text/plain": [
       "(0.02857142857142857, 0.084)"
      ]
     },
     "execution_count": 21,
     "metadata": {},
     "output_type": "execute_result"
    }
   ],
   "source": [
    "run_linear_regression_experiment()"
   ]
  },
  {
   "cell_type": "markdown",
   "metadata": {},
   "source": [
    "Question 3"
   ]
  },
  {
   "cell_type": "code",
   "execution_count": 22,
   "metadata": {},
   "outputs": [],
   "source": [
    "def calculate_w_reg(Z, ZT, lambda_value, y):\n",
    "    step_1 = np.matmul(ZT, Z)\n",
    "    step_2 = step_1 + lambda_value * np.identity(len(step_1))\n",
    "    step_3 = np.linalg.inv(step_2)\n",
    "    step_4 = np.matmul(step_3, ZT)\n",
    "    w_reg = np.matmul(step_4, y)\n",
    "    \n",
    "    return w_reg"
   ]
  },
  {
   "cell_type": "code",
   "execution_count": 23,
   "metadata": {},
   "outputs": [],
   "source": [
    "def run_weight_decay_experiment(lambda_value):\n",
    "    train_xn = get_x_values(training_set)\n",
    "    train_yn = np_training_set[:, 2]\n",
    "    \n",
    "    test_xn = get_x_values(testing_set)\n",
    "    test_yn = np_testing_set[:, 2]\n",
    "    \n",
    "    train_xn_transform = np.array([transform_data(x1, x2) for (x1, x2) in train_xn])\n",
    "    test_xn_transform = np.array([transform_data(x1, x2) for (x1, x2) in test_xn])\n",
    "\n",
    "    w_reg = calculate_w_reg(train_xn_transform, np.transpose(train_xn_transform), lambda_value, train_yn)\n",
    "\n",
    "    E_in = calc_error(train_yn, w_reg, train_xn_transform)\n",
    "    E_out = calc_error(test_yn, w_reg, test_xn_transform)\n",
    "\n",
    "    return E_in, E_out"
   ]
  },
  {
   "cell_type": "code",
   "execution_count": 24,
   "metadata": {},
   "outputs": [
    {
     "data": {
      "text/plain": [
       "(0.02857142857142857, 0.08)"
      ]
     },
     "execution_count": 24,
     "metadata": {},
     "output_type": "execute_result"
    }
   ],
   "source": [
    "run_weight_decay_experiment(1e-3)"
   ]
  },
  {
   "cell_type": "code",
   "execution_count": 25,
   "metadata": {},
   "outputs": [
    {
     "data": {
      "text/plain": [
       "(0.37142857142857144, 0.436)"
      ]
     },
     "execution_count": 25,
     "metadata": {},
     "output_type": "execute_result"
    }
   ],
   "source": [
    "run_weight_decay_experiment(1e3)"
   ]
  },
  {
   "cell_type": "code",
   "execution_count": 27,
   "metadata": {},
   "outputs": [
    {
     "name": "stdout",
     "output_type": "stream",
     "text": [
      "k = 2: Eout = 0.228\n",
      "k = 1: Eout = 0.124\n",
      "k = 0: Eout = 0.092\n",
      "k = -1: Eout = 0.056\n",
      "k = -2: Eout = 0.084\n"
     ]
    }
   ],
   "source": [
    "k_values = [2, 1, 0, -1, -2]\n",
    "\n",
    "for k in k_values:\n",
    "    Ein, Eout = run_weight_decay_experiment(10 ** k)\n",
    "    print(f\"k = {k}: Eout = {Eout}\")"
   ]
  },
  {
   "cell_type": "code",
   "execution_count": 32,
   "metadata": {},
   "outputs": [
    {
     "data": {
      "text/plain": [
       "0.056"
      ]
     },
     "execution_count": 32,
     "metadata": {},
     "output_type": "execute_result"
    }
   ],
   "source": [
    "k_values = np.arange(-100, 100)\n",
    "min_Eout = float('inf')\n",
    "\n",
    "for k in k_values:\n",
    "    Ein, Eout = run_weight_decay_experiment(np.power(10.0, k))\n",
    "    \n",
    "    if Eout < min_Eout:\n",
    "        min_Eout = Eout\n",
    "    \n",
    "min_Eout"
   ]
  }
 ],
 "metadata": {
  "kernelspec": {
   "display_name": "Python 3",
   "language": "python",
   "name": "python3"
  },
  "language_info": {
   "codemirror_mode": {
    "name": "ipython",
    "version": 3
   },
   "file_extension": ".py",
   "mimetype": "text/x-python",
   "name": "python",
   "nbconvert_exporter": "python",
   "pygments_lexer": "ipython3",
   "version": "3.10.7"
  }
 },
 "nbformat": 4,
 "nbformat_minor": 2
}
