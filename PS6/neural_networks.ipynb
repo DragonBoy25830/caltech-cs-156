{
 "cells": [
  {
   "cell_type": "code",
   "execution_count": 9,
   "metadata": {},
   "outputs": [
    {
     "name": "stdout",
     "output_type": "stream",
     "text": [
      "1 69\n",
      "2 110\n",
      "3 149\n",
      "4 186\n",
      "5 221\n",
      "6 254\n",
      "7 285\n",
      "8 314\n",
      "9 341\n",
      "10 366\n",
      "11 389\n",
      "12 410\n",
      "13 429\n",
      "14 446\n",
      "15 461\n",
      "16 474\n",
      "17 485\n",
      "18 494\n",
      "19 501\n",
      "20 506\n",
      "21 509\n",
      "22 510\n",
      "23 509\n",
      "24 506\n",
      "25 501\n",
      "26 494\n",
      "27 485\n",
      "28 474\n",
      "29 461\n",
      "30 446\n",
      "31 429\n",
      "32 410\n",
      "33 389\n",
      "34 366\n",
      "35 341\n"
     ]
    }
   ],
   "source": [
    "for i in range(1, 36):\n",
    "    print(i, 10 * (i - 1) + i * (36 - i - 1) + (36 - i))"
   ]
  }
 ],
 "metadata": {
  "kernelspec": {
   "display_name": "Python 3",
   "language": "python",
   "name": "python3"
  },
  "language_info": {
   "codemirror_mode": {
    "name": "ipython",
    "version": 3
   },
   "file_extension": ".py",
   "mimetype": "text/x-python",
   "name": "python",
   "nbconvert_exporter": "python",
   "pygments_lexer": "ipython3",
   "version": "3.10.7"
  }
 },
 "nbformat": 4,
 "nbformat_minor": 2
}
