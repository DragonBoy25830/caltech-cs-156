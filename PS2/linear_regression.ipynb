{
 "cells": [
  {
   "cell_type": "markdown",
   "metadata": {},
   "source": [
    "Running experiment once with plot at the end for sanity check"
   ]
  },
  {
   "cell_type": "code",
   "execution_count": 1,
   "metadata": {},
   "outputs": [],
   "source": [
    "import numpy as np\n",
    "import matplotlib.pyplot as plt\n",
    "import random as rand\n",
    "from statistics import mean"
   ]
  },
  {
   "cell_type": "code",
   "execution_count": 2,
   "metadata": {},
   "outputs": [],
   "source": [
    "num_points = 100\n",
    "num_experiments = 1000"
   ]
  },
  {
   "cell_type": "code",
   "execution_count": 3,
   "metadata": {},
   "outputs": [],
   "source": [
    "x0 = rand.uniform(-1, 1)\n",
    "y0 = rand.uniform(-1, 1)\n",
    "x1 = rand.uniform(-1, 1)\n",
    "y1 = rand.uniform(-1, 1)\n",
    "\n",
    "m_f = (y1 - y0) / (x1 - x0)\n",
    "b_f = y0 - m_f * x0\n",
    "f = [m_f, b_f]"
   ]
  },
  {
   "cell_type": "code",
   "execution_count": 4,
   "metadata": {},
   "outputs": [],
   "source": [
    "def classify_point(m, b, x, y):\n",
    "    expected_value = m * x + b\n",
    "    \n",
    "    if y >= expected_value:\n",
    "        return 1\n",
    "    else:\n",
    "        return -1"
   ]
  },
  {
   "cell_type": "code",
   "execution_count": 5,
   "metadata": {},
   "outputs": [],
   "source": [
    "bias = [1] * num_points\n",
    "x1 = [rand.uniform(-1, 1) for _ in range(num_points)]\n",
    "x2 = [rand.uniform(-1, 1) for _ in range(num_points)]\n",
    "\n",
    "xn = np.column_stack((x1, x2))\n",
    "yn = [classify_point(m_f, b_f, x, y) for (x, y) in xn]\n",
    "\n",
    "xn_bias = np.column_stack((bias, xn))\n",
    "col = ['blue' if y < 0 else 'magenta' for y in yn]"
   ]
  },
  {
   "cell_type": "code",
   "execution_count": 6,
   "metadata": {},
   "outputs": [],
   "source": [
    "matrix_X = np.array(xn)\n",
    "matrix_X_bias = np.array(xn_bias)\n",
    "matrix_y = np.array(yn)"
   ]
  },
  {
   "cell_type": "code",
   "execution_count": 7,
   "metadata": {},
   "outputs": [
    {
     "data": {
      "text/plain": [
       "array([-0.08832954, -1.51595558, -0.02733668])"
      ]
     },
     "execution_count": 7,
     "metadata": {},
     "output_type": "execute_result"
    }
   ],
   "source": [
    "w = np.matmul(np.linalg.pinv(matrix_X_bias), matrix_y)\n",
    "w"
   ]
  },
  {
   "cell_type": "code",
   "execution_count": 8,
   "metadata": {},
   "outputs": [],
   "source": [
    "m_g = -1 * w[1] / w[2]\n",
    "b_g = -1 * w[0] / w[2]"
   ]
  },
  {
   "cell_type": "code",
   "execution_count": 9,
   "metadata": {},
   "outputs": [
    {
     "data": {
      "text/plain": [
       "<matplotlib.lines._AxLine at 0x1ee725480d0>"
      ]
     },
     "execution_count": 9,
     "metadata": {},
     "output_type": "execute_result"
    },
    {
     "data": {
      "image/png": "[encoded data removed]",
      "text/plain": [
       "<Figure size 640x480 with 1 Axes>"
      ]
     },
     "metadata": {},
     "output_type": "display_data"
    }
   ],
   "source": [
    "for i in range(num_points):\n",
    "    plt.scatter(xn[i][0], xn[i][1], c=col[i])\n",
    "\n",
    "plt.xlim(-1, 1)\n",
    "plt.ylim(-1, 1)\n",
    "plt.axline((0, b_f), (1, m_f + b_f), c='red')\n",
    "plt.axline((0, b_g), (1, m_g + b_g))"
   ]
  },
  {
   "cell_type": "code",
   "execution_count": 10,
   "metadata": {},
   "outputs": [],
   "source": [
    "g_classification = [classify_point(m_g, b_g, x, y) for (x, y) in matrix_X]"
   ]
  },
  {
   "cell_type": "code",
   "execution_count": 11,
   "metadata": {},
   "outputs": [
    {
     "data": {
      "text/plain": [
       "98"
      ]
     },
     "execution_count": 11,
     "metadata": {},
     "output_type": "execute_result"
    }
   ],
   "source": [
    "Ein = 0\n",
    "\n",
    "for i in range(len(g_classification)):\n",
    "    if g_classification[i] != yn[i]:\n",
    "        Ein += 1\n",
    "\n",
    "Ein"
   ]
  },
  {
   "cell_type": "markdown",
   "metadata": {},
   "source": [
    "Running Experiment for 1000 Trials"
   ]
  },
  {
   "cell_type": "code",
   "execution_count": 12,
   "metadata": {},
   "outputs": [],
   "source": [
    "f = []\n",
    "g = []\n",
    "Ein = []"
   ]
  },
  {
   "cell_type": "code",
   "execution_count": 13,
   "metadata": {},
   "outputs": [],
   "source": [
    "def generate_target_function():\n",
    "    x0 = rand.uniform(-1, 1)\n",
    "    y0 = rand.uniform(-1, 1)\n",
    "    x1 = rand.uniform(-1, 1)\n",
    "    y1 = rand.uniform(-1, 1)\n",
    "\n",
    "    m_f = (y1 - y0) / (x1 - x0)\n",
    "    b_f = y0 - m_f * x0\n",
    "    f.append([m_f, b_f])\n",
    "    \n",
    "    return m_f, b_f"
   ]
  },
  {
   "cell_type": "code",
   "execution_count": 14,
   "metadata": {},
   "outputs": [],
   "source": [
    "def calculate_E(E, f, g):\n",
    "    E_curr = 0\n",
    "\n",
    "    for i in range(len(g)):\n",
    "        if f[i] != g[i]:\n",
    "            E_curr += 1\n",
    "\n",
    "    E.append(E_curr / num_points)"
   ]
  },
  {
   "cell_type": "code",
   "execution_count": 15,
   "metadata": {},
   "outputs": [],
   "source": [
    "x1 = [rand.uniform(-1, 1) for _ in range(num_points)]\n",
    "x2 = [rand.uniform(-1, 1) for _ in range(num_points)]"
   ]
  },
  {
   "cell_type": "code",
   "execution_count": 16,
   "metadata": {},
   "outputs": [],
   "source": [
    "def run_trial():\n",
    "    m_f, b_f = generate_target_function()\n",
    "    \n",
    "    bias = [1] * num_points\n",
    "\n",
    "    xn = np.column_stack((x1, x2))\n",
    "    yn = [classify_point(m_f, b_f, x, y) for (x, y) in xn]\n",
    "\n",
    "    xn_bias = np.column_stack((bias, xn))\n",
    "\n",
    "    matrix_X = np.array(xn)\n",
    "    matrix_X_bias = np.array(xn_bias)\n",
    "    matrix_y = np.array(yn)\n",
    "\n",
    "    w = np.matmul(np.linalg.pinv(matrix_X_bias), matrix_y)\n",
    "\n",
    "    m_g = -1 * w[1] / w[2]\n",
    "    b_g = -1 * w[0] / w[2]\n",
    "    \n",
    "    g.append([m_g, b_g])\n",
    "\n",
    "    gn = [classify_point(m_g, b_g, x, y) for (x, y) in matrix_X]\n",
    "\n",
    "    calculate_E(Ein, yn, gn)"
   ]
  },
  {
   "cell_type": "code",
   "execution_count": 17,
   "metadata": {},
   "outputs": [],
   "source": [
    "for i in range(num_experiments):\n",
    "    run_trial()"
   ]
  },
  {
   "cell_type": "code",
   "execution_count": 18,
   "metadata": {},
   "outputs": [
    {
     "data": {
      "text/plain": [
       "0.06021"
      ]
     },
     "execution_count": 18,
     "metadata": {},
     "output_type": "execute_result"
    }
   ],
   "source": [
    "mean(Ein)"
   ]
  },
  {
   "cell_type": "markdown",
   "metadata": {},
   "source": [
    "Out of Sample Prediction"
   ]
  },
  {
   "cell_type": "code",
   "execution_count": 19,
   "metadata": {},
   "outputs": [],
   "source": [
    "Eout = []"
   ]
  },
  {
   "cell_type": "code",
   "execution_count": 20,
   "metadata": {},
   "outputs": [],
   "source": [
    "def generate_out_of_sample():\n",
    "    x1 = [rand.uniform(-1, 1) for _ in range(num_points)]\n",
    "    x2 = [rand.uniform(-1, 1) for _ in range(num_points)]\n",
    "    return x1, x2"
   ]
  },
  {
   "cell_type": "code",
   "execution_count": 21,
   "metadata": {},
   "outputs": [
    {
     "data": {
      "text/plain": [
       "0.06877"
      ]
     },
     "execution_count": 21,
     "metadata": {},
     "output_type": "execute_result"
    }
   ],
   "source": [
    "for i in range(len(g)):\n",
    "    x1, x2 = generate_out_of_sample()\n",
    "    xn = np.column_stack((x1, x2))\n",
    "\n",
    "    m_f, b_f = f[i]\n",
    "    m_g, b_g = g[i]\n",
    "    f_classfication = [classify_point(m_f, b_f, x, y) for (x, y) in xn]\n",
    "    g_classfication = [classify_point(m_g, b_g, x, y) for (x, y) in xn]\n",
    "\n",
    "    calculate_E(Eout, f_classfication, g_classfication)\n",
    "\n",
    "mean(Eout)\n"
   ]
  },
  {
   "cell_type": "markdown",
   "metadata": {},
   "source": [
    "PLA Example (one run)"
   ]
  },
  {
   "cell_type": "code",
   "execution_count": 22,
   "metadata": {},
   "outputs": [],
   "source": [
    "num_points = 10"
   ]
  },
  {
   "cell_type": "code",
   "execution_count": 23,
   "metadata": {},
   "outputs": [],
   "source": [
    "x0 = rand.uniform(-1, 1)\n",
    "y0 = rand.uniform(-1, 1)\n",
    "x1 = rand.uniform(-1, 1)\n",
    "y1 = rand.uniform(-1, 1)\n",
    "\n",
    "m_f = (y1 - y0) / (x1 - x0)\n",
    "b_f = y0 - m_f * x0\n",
    "f = [m_f, b_f]"
   ]
  },
  {
   "cell_type": "code",
   "execution_count": 24,
   "metadata": {},
   "outputs": [],
   "source": [
    "bias = [1] * num_points\n",
    "x1 = [rand.uniform(-1, 1) for _ in range(num_points)]\n",
    "x2 = [rand.uniform(-1, 1) for _ in range(num_points)]\n",
    "\n",
    "xn = np.column_stack((x1, x2))\n",
    "yn = [classify_point(m_f, b_f, x, y) for (x, y) in xn]\n",
    "\n",
    "xn_bias = np.column_stack((bias, xn))\n",
    "col = ['blue' if y < 0 else 'magenta' for y in yn]"
   ]
  },
  {
   "cell_type": "code",
   "execution_count": 25,
   "metadata": {},
   "outputs": [],
   "source": [
    "def update_misclassified_points(m_f, b_f, m_g, b_g, xn, xn_bias):\n",
    "    new_misclassified_points = []\n",
    "    f_classfication = [classify_point(m_f, b_f, x, y) for (x, y) in xn]\n",
    "    g_classfication = [classify_point(m_g, b_g, x, y) for (x, y) in xn]\n",
    "    \n",
    "    for i in range(len(f_classfication)):\n",
    "        if f_classfication[i] != g_classfication[i]:\n",
    "            new_misclassified_points.append([xn_bias[i], yn[i]])\n",
    "    \n",
    "    return new_misclassified_points"
   ]
  },
  {
   "cell_type": "code",
   "execution_count": 26,
   "metadata": {},
   "outputs": [],
   "source": [
    "matrix_X = np.array(xn)\n",
    "matrix_X_bias = np.array(xn_bias)\n",
    "matrix_y = np.array(yn)"
   ]
  },
  {
   "cell_type": "code",
   "execution_count": 27,
   "metadata": {},
   "outputs": [
    {
     "data": {
      "text/plain": [
       "array([0.58852367, 0.80193894, 0.66348321])"
      ]
     },
     "execution_count": 27,
     "metadata": {},
     "output_type": "execute_result"
    }
   ],
   "source": [
    "w = np.matmul(np.linalg.pinv(matrix_X_bias), matrix_y)\n",
    "w"
   ]
  },
  {
   "cell_type": "code",
   "execution_count": 28,
   "metadata": {},
   "outputs": [],
   "source": [
    "iterations = [w]"
   ]
  },
  {
   "cell_type": "code",
   "execution_count": 29,
   "metadata": {},
   "outputs": [],
   "source": [
    "m_g = -1 * w[1] / w[2]\n",
    "b_g = -1 * w[0] / w[2]"
   ]
  },
  {
   "cell_type": "code",
   "execution_count": 30,
   "metadata": {},
   "outputs": [
    {
     "data": {
      "text/plain": [
       "<matplotlib.lines._AxLine at 0x1ee7479bd00>"
      ]
     },
     "execution_count": 30,
     "metadata": {},
     "output_type": "execute_result"
    },
    {
     "data": {
      "image/png": "[encoded data removed]",
      "text/plain": [
       "<Figure size 640x480 with 1 Axes>"
      ]
     },
     "metadata": {},
     "output_type": "display_data"
    }
   ],
   "source": [
    "for i in range(num_points):\n",
    "    plt.scatter(xn[i][0], xn[i][1], c=col[i])\n",
    "\n",
    "plt.xlim(-1, 1)\n",
    "plt.ylim(-1, 1)\n",
    "plt.axline((0, b_f), (1, m_f + b_f), c='red')"
   ]
  },
  {
   "cell_type": "code",
   "execution_count": 31,
   "metadata": {},
   "outputs": [],
   "source": [
    "len_mp = [float('inf')]"
   ]
  },
  {
   "cell_type": "code",
   "execution_count": 32,
   "metadata": {},
   "outputs": [],
   "source": [
    "def PLA():\n",
    "    w = iterations[-1]\n",
    "    m_g = -1 * w[1] / w[2]\n",
    "    b_g = -1 * w[0] / w[2]\n",
    "    \n",
    "    misclassified_points = update_misclassified_points(m_f, b_f, m_g, b_g, xn, xn_bias)\n",
    "    len_mp.append(len(misclassified_points))\n",
    "    if len(misclassified_points) != 0:\n",
    "        random_index = np.random.randint(0, len(misclassified_points))\n",
    "        misclassified_point = misclassified_points[random_index]\n",
    "\n",
    "        w = np.array(w) + misclassified_point[-1] * np.array(misclassified_point[0])\n",
    "        iterations.append(w)\n",
    "    else:\n",
    "        return"
   ]
  },
  {
   "cell_type": "code",
   "execution_count": 33,
   "metadata": {},
   "outputs": [],
   "source": [
    "while len_mp[-1] != 0:\n",
    "    PLA()"
   ]
  },
  {
   "cell_type": "code",
   "execution_count": 34,
   "metadata": {},
   "outputs": [
    {
     "data": {
      "text/plain": [
       "<matplotlib.lines._AxLine at 0x1ee749b47c0>"
      ]
     },
     "execution_count": 34,
     "metadata": {},
     "output_type": "execute_result"
    },
    {
     "data": {
      "image/png": "[encoded data removed]",
      "text/plain": [
       "<Figure size 640x480 with 1 Axes>"
      ]
     },
     "metadata": {},
     "output_type": "display_data"
    }
   ],
   "source": [
    "for i in range(num_points):\n",
    "    plt.scatter(xn[i][0], xn[i][1], c=col[i])\n",
    "\n",
    "plt.xlim(-1, 1)\n",
    "plt.ylim(-1, 1)\n",
    "plt.axline((0, b_f), (1, m_f + b_f), c='red')\n",
    "plt.axline((0, b_g), (1, m_g + b_g))"
   ]
  },
  {
   "cell_type": "code",
   "execution_count": 35,
   "metadata": {},
   "outputs": [
    {
     "data": {
      "text/plain": [
       "1"
      ]
     },
     "execution_count": 35,
     "metadata": {},
     "output_type": "execute_result"
    }
   ],
   "source": [
    "len(iterations)"
   ]
  },
  {
   "cell_type": "markdown",
   "metadata": {},
   "source": [
    "PLA example (1000 runs)"
   ]
  },
  {
   "cell_type": "code",
   "execution_count": 36,
   "metadata": {},
   "outputs": [],
   "source": [
    "num_experiments = 1000"
   ]
  },
  {
   "cell_type": "code",
   "execution_count": 37,
   "metadata": {},
   "outputs": [],
   "source": [
    "def linear_regression():\n",
    "    x0 = rand.uniform(-1, 1)\n",
    "    y0 = rand.uniform(-1, 1)\n",
    "    x1 = rand.uniform(-1, 1)\n",
    "    y1 = rand.uniform(-1, 1)\n",
    "\n",
    "    m_f = (y1 - y0) / (x1 - x0)\n",
    "    b_f = y0 - m_f * x0\n",
    "    \n",
    "    bias = [1] * num_points\n",
    "    x1 = [rand.uniform(-1, 1) for _ in range(num_points)]\n",
    "    x2 = [rand.uniform(-1, 1) for _ in range(num_points)]\n",
    "\n",
    "    xn = np.column_stack((x1, x2))\n",
    "    yn = [classify_point(m_f, b_f, x, y) for (x, y) in xn]\n",
    "\n",
    "    xn_bias = np.column_stack((bias, xn))\n",
    "    \n",
    "    matrix_X_bias = np.array(xn_bias)\n",
    "    matrix_y = np.array(yn)\n",
    "    \n",
    "    w = np.matmul(np.linalg.pinv(matrix_X_bias), matrix_y)\n",
    "\n",
    "    return w, m_f, b_f, [xn, xn_bias]"
   ]
  },
  {
   "cell_type": "code",
   "execution_count": 38,
   "metadata": {},
   "outputs": [],
   "source": [
    "lin_reg_values = []\n",
    "datasets = []"
   ]
  },
  {
   "cell_type": "code",
   "execution_count": 39,
   "metadata": {},
   "outputs": [],
   "source": [
    "for i in range(num_experiments):\n",
    "    w, m_f, b_f, dataset = linear_regression()\n",
    "    lin_reg_values.append([w, m_f, b_f])\n",
    "    datasets.append(dataset)"
   ]
  },
  {
   "cell_type": "code",
   "execution_count": 40,
   "metadata": {},
   "outputs": [],
   "source": [
    "def PLA(w, m_f, b_f, xn, xn_bias):\n",
    "    iterations = [w]\n",
    "    \n",
    "    misclassified_points = xn_bias\n",
    "    \n",
    "    while len(misclassified_points) != 0:\n",
    "        new_w = iterations[-1]\n",
    "        m_g = -1 * new_w[1] / new_w[2]\n",
    "        b_g = -1 * new_w[0] / new_w[2]\n",
    "        \n",
    "        random_index = np.random.randint(0, len(misclassified_points))\n",
    "        misclassified_point = misclassified_points[random_index]\n",
    "\n",
    "        w = np.array(new_w) + misclassified_point[-1] * np.array(misclassified_point[0])\n",
    "        iterations.append(new_w)\n",
    "        \n",
    "        misclassified_points = update_misclassified_points(m_f, b_f, m_g, b_g, xn, xn_bias)\n",
    "    \n",
    "    return len(iterations)"
   ]
  },
  {
   "cell_type": "code",
   "execution_count": 41,
   "metadata": {},
   "outputs": [],
   "source": [
    "num_iter_arr = [] "
   ]
  },
  {
   "cell_type": "code",
   "execution_count": 42,
   "metadata": {},
   "outputs": [
    {
     "ename": "KeyboardInterrupt",
     "evalue": "",
     "output_type": "error",
     "traceback": [
      "\u001b[1;31m---------------------------------------------------------------------------\u001b[0m",
      "\u001b[1;31mKeyboardInterrupt\u001b[0m                         Traceback (most recent call last)",
      "\u001b[1;32mc:\\Users\\cclrs\\OneDrive - California Institute of Technology\\Smore Year\\First Term\\CS&CNS&EE 156\\caltech-cs-156\\PS2\\linear_regression.ipynb Cell 47\u001b[0m line \u001b[0;36m4\n\u001b[0;32m      <a href='vscode-notebook-cell:/c%3A/Users/cclrs/OneDrive%20-%20California%20Institute%20of%20Technology/Smore%20Year/First%20Term/CS%26CNS%26EE%20156/caltech-cs-156/PS2/linear_regression.ipynb#X64sZmlsZQ%3D%3D?line=1'>2</a>\u001b[0m w, m_f, b_f \u001b[39m=\u001b[39m lin_reg_values[i]\n\u001b[0;32m      <a href='vscode-notebook-cell:/c%3A/Users/cclrs/OneDrive%20-%20California%20Institute%20of%20Technology/Smore%20Year/First%20Term/CS%26CNS%26EE%20156/caltech-cs-156/PS2/linear_regression.ipynb#X64sZmlsZQ%3D%3D?line=2'>3</a>\u001b[0m xn, xn_bias \u001b[39m=\u001b[39m datasets[i]\n\u001b[1;32m----> <a href='vscode-notebook-cell:/c%3A/Users/cclrs/OneDrive%20-%20California%20Institute%20of%20Technology/Smore%20Year/First%20Term/CS%26CNS%26EE%20156/caltech-cs-156/PS2/linear_regression.ipynb#X64sZmlsZQ%3D%3D?line=3'>4</a>\u001b[0m num_iter \u001b[39m=\u001b[39m PLA(w, m_f, b_f, xn, xn_bias)\n\u001b[0;32m      <a href='vscode-notebook-cell:/c%3A/Users/cclrs/OneDrive%20-%20California%20Institute%20of%20Technology/Smore%20Year/First%20Term/CS%26CNS%26EE%20156/caltech-cs-156/PS2/linear_regression.ipynb#X64sZmlsZQ%3D%3D?line=4'>5</a>\u001b[0m num_iter_arr\u001b[39m.\u001b[39mappend(num_iter)\n",
      "\u001b[1;32mc:\\Users\\cclrs\\OneDrive - California Institute of Technology\\Smore Year\\First Term\\CS&CNS&EE 156\\caltech-cs-156\\PS2\\linear_regression.ipynb Cell 47\u001b[0m line \u001b[0;36m1\n\u001b[0;32m     <a href='vscode-notebook-cell:/c%3A/Users/cclrs/OneDrive%20-%20California%20Institute%20of%20Technology/Smore%20Year/First%20Term/CS%26CNS%26EE%20156/caltech-cs-156/PS2/linear_regression.ipynb#X64sZmlsZQ%3D%3D?line=10'>11</a>\u001b[0m random_index \u001b[39m=\u001b[39m np\u001b[39m.\u001b[39mrandom\u001b[39m.\u001b[39mrandint(\u001b[39m0\u001b[39m, \u001b[39mlen\u001b[39m(misclassified_points))\n\u001b[0;32m     <a href='vscode-notebook-cell:/c%3A/Users/cclrs/OneDrive%20-%20California%20Institute%20of%20Technology/Smore%20Year/First%20Term/CS%26CNS%26EE%20156/caltech-cs-156/PS2/linear_regression.ipynb#X64sZmlsZQ%3D%3D?line=11'>12</a>\u001b[0m misclassified_point \u001b[39m=\u001b[39m misclassified_points[random_index]\n\u001b[1;32m---> <a href='vscode-notebook-cell:/c%3A/Users/cclrs/OneDrive%20-%20California%20Institute%20of%20Technology/Smore%20Year/First%20Term/CS%26CNS%26EE%20156/caltech-cs-156/PS2/linear_regression.ipynb#X64sZmlsZQ%3D%3D?line=13'>14</a>\u001b[0m w \u001b[39m=\u001b[39m np\u001b[39m.\u001b[39;49marray(new_w) \u001b[39m+\u001b[39m misclassified_point[\u001b[39m-\u001b[39m\u001b[39m1\u001b[39m] \u001b[39m*\u001b[39m np\u001b[39m.\u001b[39marray(misclassified_point[\u001b[39m0\u001b[39m])\n\u001b[0;32m     <a href='vscode-notebook-cell:/c%3A/Users/cclrs/OneDrive%20-%20California%20Institute%20of%20Technology/Smore%20Year/First%20Term/CS%26CNS%26EE%20156/caltech-cs-156/PS2/linear_regression.ipynb#X64sZmlsZQ%3D%3D?line=14'>15</a>\u001b[0m iterations\u001b[39m.\u001b[39mappend(new_w)\n\u001b[0;32m     <a href='vscode-notebook-cell:/c%3A/Users/cclrs/OneDrive%20-%20California%20Institute%20of%20Technology/Smore%20Year/First%20Term/CS%26CNS%26EE%20156/caltech-cs-156/PS2/linear_regression.ipynb#X64sZmlsZQ%3D%3D?line=16'>17</a>\u001b[0m misclassified_points \u001b[39m=\u001b[39m update_misclassified_points(m_f, b_f, m_g, b_g, xn, xn_bias)\n",
      "\u001b[1;31mKeyboardInterrupt\u001b[0m: "
     ]
    }
   ],
   "source": [
    "for i in range(1000):\n",
    "    w, m_f, b_f = lin_reg_values[i]\n",
    "    xn, xn_bias = datasets[i]\n",
    "    num_iter = PLA(w, m_f, b_f, xn, xn_bias)\n",
    "    num_iter_arr.append(num_iter)\n"
   ]
  },
  {
   "cell_type": "code",
   "execution_count": null,
   "metadata": {},
   "outputs": [],
   "source": [
    "num_iter"
   ]
  }
 ],
 "metadata": {
  "kernelspec": {
   "display_name": "Python 3",
   "language": "python",
   "name": "python3"
  },
  "language_info": {
   "codemirror_mode": {
    "name": "ipython",
    "version": 3
   },
   "file_extension": ".py",
   "mimetype": "text/x-python",
   "name": "python",
   "nbconvert_exporter": "python",
   "pygments_lexer": "ipython3",
   "version": "3.10.7"
  }
 },
 "nbformat": 4,
 "nbformat_minor": 2
}
