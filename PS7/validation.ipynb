{
 "cells": [
  {
   "cell_type": "code",
   "execution_count": 1,
   "metadata": {},
   "outputs": [],
   "source": [
    "import numpy as np"
   ]
  },
  {
   "cell_type": "code",
   "execution_count": 2,
   "metadata": {},
   "outputs": [],
   "source": [
    "training_set = []\n",
    "testing_set = []"
   ]
  },
  {
   "cell_type": "code",
   "execution_count": 3,
   "metadata": {},
   "outputs": [],
   "source": [
    "with open('data_in.txt', 'r') as f:\n",
    "    for line in f:\n",
    "        training_set.append([float(x) for x in line.split()])\n",
    "\n",
    "with open('data_out.txt', 'r') as f:\n",
    "    for line in f:\n",
    "        testing_set.append([float(x) for x in line.split()])"
   ]
  },
  {
   "cell_type": "code",
   "execution_count": 4,
   "metadata": {},
   "outputs": [],
   "source": [
    "np_training_set = np.array(training_set)\n",
    "np_testing_set = np.array(testing_set)"
   ]
  },
  {
   "cell_type": "code",
   "execution_count": 5,
   "metadata": {},
   "outputs": [],
   "source": [
    "def transform_data(transform_index, x1, x2):\n",
    "    match transform_index:\n",
    "        case 0:\n",
    "            return (1)\n",
    "        case 1:\n",
    "            return (1, x1)\n",
    "        case 2:\n",
    "            return (1, x1, x2)\n",
    "        case 3:\n",
    "            return (1, x1, x2, x1**2)\n",
    "        case 4:\n",
    "            return (1, x1, x2, x1**2, x2**2)\n",
    "        case 5:\n",
    "            return (1, x1, x2, x1**2, x2**2, x1 * x2)\n",
    "        case 6:\n",
    "            return (1, x1, x2, x1**2, x2**2, x1 * x2, np.abs(x1 - x2))\n",
    "        case 7:\n",
    "            return (1, x1, x2, x1**2, x2**2, x1 * x2, np.abs(x1 - x2), np.abs(x1 + x2))"
   ]
  },
  {
   "cell_type": "code",
   "execution_count": 6,
   "metadata": {},
   "outputs": [],
   "source": [
    "def calc_error(classification, w, z_transform):\n",
    "    yn = classification\n",
    "    counter = 0\n",
    "    for i in range(len(z_transform)):\n",
    "        z = z_transform[i]\n",
    "        w_val = np.sign(np.dot(w, z))\n",
    "        \n",
    "        if w_val != yn[i]:\n",
    "            counter += 1\n",
    "    \n",
    "    return counter / len(classification)"
   ]
  },
  {
   "cell_type": "code",
   "execution_count": 7,
   "metadata": {},
   "outputs": [],
   "source": [
    "def get_x_values(dataset):\n",
    "    dataset = np.array(dataset)\n",
    "    x1 = dataset[:, 0]\n",
    "    x2 = dataset[:, 1]\n",
    "\n",
    "    return np.column_stack((x1, x2))"
   ]
  },
  {
   "cell_type": "code",
   "execution_count": 8,
   "metadata": {},
   "outputs": [],
   "source": [
    "def run_linear_regression_experiment(transform_index, train_num):\n",
    "    x_values = get_x_values(training_set)\n",
    "    train_xn = x_values[0:train_num]\n",
    "    validate_xn = x_values[train_num:]\n",
    "    train_yn = np_training_set[:, 2][0:train_num]\n",
    "    validate_yn = np_training_set[:, 2][train_num:]\n",
    "    \n",
    "    \n",
    "    test_xn = get_x_values(testing_set)\n",
    "    test_yn = np_testing_set[:, 2]\n",
    "\n",
    "    train_xn_transform = [transform_data(transform_index, x1, x2) for (x1, x2) in train_xn]\n",
    "    validate_xn_transform = [transform_data(transform_index, x1, x2) for (x1, x2) in validate_xn]\n",
    "    test_xn_transform = [transform_data(transform_index, x1, x2) for (x1, x2) in test_xn]\n",
    "    \n",
    "    w = np.matmul(np.linalg.pinv(train_xn_transform), train_yn)\n",
    "\n",
    "    E_in = calc_error(train_yn, w, train_xn_transform)\n",
    "    E_out = calc_error(test_yn, w, test_xn_transform)\n",
    "    E_val = calc_error(validate_yn, w, validate_xn_transform)\n",
    "\n",
    "    return E_in, E_out, E_val"
   ]
  },
  {
   "cell_type": "markdown",
   "metadata": {},
   "source": [
    "Question 1"
   ]
  },
  {
   "cell_type": "code",
   "execution_count": 9,
   "metadata": {},
   "outputs": [],
   "source": [
    "num_training_points = 25"
   ]
  },
  {
   "cell_type": "code",
   "execution_count": 10,
   "metadata": {},
   "outputs": [
    {
     "name": "stdout",
     "output_type": "stream",
     "text": [
      "k = 3 --> E_val = 0.3\n",
      "k = 4 --> E_val = 0.5\n",
      "k = 5 --> E_val = 0.2\n",
      "k = 6 --> E_val = 0.0\n",
      "k = 7 --> E_val = 0.1\n"
     ]
    }
   ],
   "source": [
    "for k in range(3, 8):\n",
    "    E_in, E_out, E_val = run_linear_regression_experiment(k, num_training_points)\n",
    "    print(f\"k = {k} --> E_val = {E_val}\")"
   ]
  },
  {
   "cell_type": "markdown",
   "metadata": {},
   "source": [
    "Question 2"
   ]
  },
  {
   "cell_type": "code",
   "execution_count": 11,
   "metadata": {},
   "outputs": [
    {
     "name": "stdout",
     "output_type": "stream",
     "text": [
      "k = 3 --> E_out = 0.42\n",
      "k = 4 --> E_out = 0.416\n",
      "k = 5 --> E_out = 0.188\n",
      "k = 6 --> E_out = 0.084\n",
      "k = 7 --> E_out = 0.072\n"
     ]
    }
   ],
   "source": [
    "for k in range(3, 8):\n",
    "    E_in, E_out, E_val = run_linear_regression_experiment(k, num_training_points)\n",
    "    print(f\"k = {k} --> E_out = {E_out}\")"
   ]
  },
  {
   "cell_type": "markdown",
   "metadata": {},
   "source": [
    "Question 3"
   ]
  },
  {
   "cell_type": "code",
   "execution_count": 32,
   "metadata": {},
   "outputs": [],
   "source": [
    "def run_linear_regression_experiment_switch(transform_index):\n",
    "    x_values = get_x_values(training_set)\n",
    "    train_xn = x_values[-10:]\n",
    "    validate_xn = x_values[0:25]\n",
    "    train_yn = np_training_set[:, 2][-10:]\n",
    "    validate_yn = np_training_set[:, 2][0:25]\n",
    "    \n",
    "    \n",
    "    test_xn = get_x_values(testing_set)\n",
    "    test_yn = np_testing_set[:, 2]\n",
    "\n",
    "    train_xn_transform = [transform_data(transform_index, x1, x2) for (x1, x2) in train_xn]\n",
    "    validate_xn_transform = [transform_data(transform_index, x1, x2) for (x1, x2) in validate_xn]\n",
    "    test_xn_transform = [transform_data(transform_index, x1, x2) for (x1, x2) in test_xn]\n",
    "    \n",
    "    w = np.matmul(np.linalg.pinv(train_xn_transform), train_yn)\n",
    "\n",
    "    E_in = calc_error(train_yn, w, train_xn_transform)\n",
    "    E_out = calc_error(test_yn, w, test_xn_transform)\n",
    "    E_val = calc_error(validate_yn, w, validate_xn_transform)\n",
    "\n",
    "    return E_in, E_out, E_val"
   ]
  },
  {
   "cell_type": "code",
   "execution_count": 33,
   "metadata": {},
   "outputs": [
    {
     "name": "stdout",
     "output_type": "stream",
     "text": [
      "k = 3 --> E_val = 0.28\n",
      "k = 4 --> E_val = 0.36\n",
      "k = 5 --> E_val = 0.2\n",
      "k = 6 --> E_val = 0.08\n",
      "k = 7 --> E_val = 0.12\n"
     ]
    }
   ],
   "source": [
    "for k in range(3, 8):\n",
    "    E_in, E_out, E_val = run_linear_regression_experiment(k)\n",
    "    print(f\"k = {k} --> E_val = {E_val}\")"
   ]
  },
  {
   "cell_type": "markdown",
   "metadata": {},
   "source": [
    "Question 4"
   ]
  },
  {
   "cell_type": "code",
   "execution_count": 35,
   "metadata": {},
   "outputs": [
    {
     "name": "stdout",
     "output_type": "stream",
     "text": [
      "k = 3 --> E_out = 0.396\n",
      "k = 4 --> E_out = 0.388\n",
      "k = 5 --> E_out = 0.284\n",
      "k = 6 --> E_out = 0.192\n",
      "k = 7 --> E_out = 0.196\n"
     ]
    }
   ],
   "source": [
    "for k in range(3, 8):\n",
    "    E_in, E_out, E_val = run_linear_regression_experiment(k)\n",
    "    print(f\"k = {k} --> E_out = {E_out}\")"
   ]
  },
  {
   "cell_type": "markdown",
   "metadata": {},
   "source": [
    "Question 6"
   ]
  },
  {
   "cell_type": "code",
   "execution_count": 15,
   "metadata": {},
   "outputs": [],
   "source": [
    "num_trials = 100000"
   ]
  },
  {
   "cell_type": "code",
   "execution_count": 16,
   "metadata": {},
   "outputs": [],
   "source": [
    "def calc_expected_e(trial_num):\n",
    "    e1_sum = 0\n",
    "    e2_sum = 0\n",
    "    e_min_sum = 0   \n",
    "    \n",
    "    for _ in range(trial_num):\n",
    "        e1 = np.random.uniform()\n",
    "        e2 = np.random.uniform()\n",
    "        \n",
    "        e1_sum += e1\n",
    "        e2_sum += e2\n",
    "        e_min_sum += min(e1, e2)\n",
    "\n",
    "    return e1_sum / trial_num, e2_sum / trial_num, e_min_sum / trial_num"
   ]
  },
  {
   "cell_type": "code",
   "execution_count": 17,
   "metadata": {},
   "outputs": [
    {
     "data": {
      "text/plain": [
       "(0.5002927418203492, 0.5000939658012538, 0.3332756901006206)"
      ]
     },
     "execution_count": 17,
     "metadata": {},
     "output_type": "execute_result"
    }
   ],
   "source": [
    "calc_expected_e(num_trials)"
   ]
  }
 ],
 "metadata": {
  "kernelspec": {
   "display_name": "Python 3",
   "language": "python",
   "name": "python3"
  },
  "language_info": {
   "codemirror_mode": {
    "name": "ipython",
    "version": 3
   },
   "file_extension": ".py",
   "mimetype": "text/x-python",
   "name": "python",
   "nbconvert_exporter": "python",
   "pygments_lexer": "ipython3",
   "version": "3.10.7"
  }
 },
 "nbformat": 4,
 "nbformat_minor": 2
}
