{
 "cells": [
  {
   "cell_type": "code",
   "execution_count": 1,
   "metadata": {},
   "outputs": [],
   "source": [
    "from sklearn import svm\n",
    "import numpy as np\n",
    "import random as rand"
   ]
  },
  {
   "cell_type": "code",
   "execution_count": 2,
   "metadata": {},
   "outputs": [],
   "source": [
    "def classify_point(m, b, x, y):\n",
    "    expected_value = m * x + b\n",
    "\n",
    "    if y >= expected_value:\n",
    "        return 1\n",
    "    else:\n",
    "        return -1"
   ]
  },
  {
   "cell_type": "code",
   "execution_count": 3,
   "metadata": {},
   "outputs": [],
   "source": [
    "def generate_target_function():\n",
    "    x0 = rand.uniform(-1, 1)\n",
    "    y0 = rand.uniform(-1, 1)\n",
    "    x1 = rand.uniform(-1, 1)\n",
    "    y1 = rand.uniform(-1, 1)\n",
    "\n",
    "    m_f = (y1 - y0) / (x1 - x0)\n",
    "    b_f = y0 - m_f * x0\n",
    "    \n",
    "    return m_f, b_f"
   ]
  },
  {
   "cell_type": "code",
   "execution_count": 4,
   "metadata": {},
   "outputs": [],
   "source": [
    "def generate_data(m, b, num_points):\n",
    "    bias = [1 for _ in range(num_points)]\n",
    "    x1 = [rand.uniform(-1, 1) for _ in range(num_points)]\n",
    "    x2 = [rand.uniform(-1, 1) for _ in range(num_points)]\n",
    "\n",
    "    xn_pre_bias = np.column_stack((x1, x2))\n",
    "    xn = np.column_stack((bias, xn_pre_bias))\n",
    "    yn = [classify_point(m, b, x1, x2) for (bias, x1, x2) in xn]\n",
    "\n",
    "    training_data = np.column_stack((xn, yn))\n",
    "    \n",
    "    return training_data"
   ]
  },
  {
   "cell_type": "code",
   "execution_count": 6,
   "metadata": {},
   "outputs": [],
   "source": [
    "def update_misclassified_points(m_g, b_g, data):\n",
    "    xn = data[:, np.array([False, True, True, False])]\n",
    "    f_classification = data[:, -1]\n",
    "    g_classfication = [classify_point(m_g, b_g, x, y) for (x, y) in xn]\n",
    "    \n",
    "    new_misclassified_points = []\n",
    "    \n",
    "    for i in range(len(f_classification)):\n",
    "        if f_classification[i] != g_classfication[i]:\n",
    "            new_misclassified_points.append(data[i])\n",
    "    \n",
    "    return new_misclassified_points"
   ]
  },
  {
   "cell_type": "code",
   "execution_count": 7,
   "metadata": {},
   "outputs": [],
   "source": [
    "def PLA(w, m_g, b_g, training_data):\n",
    "    iterations = [w]\n",
    "\n",
    "    misclassified_points = update_misclassified_points(m_g, b_g, training_data)\n",
    "    \n",
    "    while len(misclassified_points) != 0:\n",
    "        new_w = iterations[-1]\n",
    "        m_g = -1 * new_w[1] / new_w[2]\n",
    "        b_g = -1 * new_w[0] / new_w[2]\n",
    "        \n",
    "        random_index = np.random.randint(0, len(misclassified_points))\n",
    "        misclassified_point = misclassified_points[random_index]\n",
    "\n",
    "        w = np.array(new_w) + misclassified_point[-1] * np.array(misclassified_point[0])\n",
    "        iterations.append(new_w)\n",
    "        \n",
    "        misclassified_points = update_misclassified_points(m_g, b_g, training_data)\n",
    "    \n",
    "    return iterations"
   ]
  },
  {
   "cell_type": "code",
   "execution_count": 8,
   "metadata": {},
   "outputs": [],
   "source": [
    "pla_weights = []\n",
    "svm_weights = []"
   ]
  },
  {
   "cell_type": "code",
   "execution_count": 9,
   "metadata": {},
   "outputs": [],
   "source": [
    "from sklearn import linear_model"
   ]
  },
  {
   "cell_type": "code",
   "execution_count": null,
   "metadata": {},
   "outputs": [],
   "source": [
    "data = []"
   ]
  },
  {
   "cell_type": "code",
   "execution_count": 10,
   "metadata": {},
   "outputs": [],
   "source": [
    "def calc_error(w, f_classification):\n",
    "    xn = data[:, np.array([True, True, True, False])]\n",
    "    f_classification = data[:, -1]\n",
    "    g_classfication = [np.sign(np.dot(w, x)) for x in xn]\n",
    "    \n",
    "    counter = 0\n",
    "    for i in range(len(f_classification)):\n",
    "        if f_classification[i] != g_classfication[i]:\n",
    "            counter += 1\n",
    "    \n",
    "    return counter / len(xn)"
   ]
  },
  {
   "cell_type": "code",
   "execution_count": 11,
   "metadata": {},
   "outputs": [],
   "source": [
    "for i in range(1000):\n",
    "    m, b = generate_target_function()\n",
    "    data = generate_data(m, b, 10)\n",
    "    \n",
    "    while len(np.unique(data[:, -1])) == 1:\n",
    "        data = generate_data(m, b, 10)\n",
    "\n",
    "    X = data[:, 0:3]\n",
    "    y = data[:, 3]\n",
    "    clflin = linear_model.Perceptron()\n",
    "    clflin.fit(X, y)\n",
    "    pla_weights.append(calc_error(clflin.coef_, y))\n",
    "    \n",
    "    clf = svm.SVC(kernel='linear', C=1e10)\n",
    "    clf.fit(X, y)\n",
    "    svm_weights.append(calc_error(clf.coef_, y))"
   ]
  },
  {
   "cell_type": "code",
   "execution_count": 12,
   "metadata": {},
   "outputs": [
    {
     "data": {
      "text/plain": [
       "0.622"
      ]
     },
     "execution_count": 12,
     "metadata": {},
     "output_type": "execute_result"
    }
   ],
   "source": [
    "counter = 0\n",
    "\n",
    "for pla_weight, svm_weight in zip(pla_weights, svm_weights):\n",
    "    if pla_weight < svm_weight:\n",
    "        counter+= 1\n",
    "\n",
    "counter / 1000"
   ]
  },
  {
   "cell_type": "code",
   "execution_count": 13,
   "metadata": {},
   "outputs": [],
   "source": [
    "pla_weights = []\n",
    "svm_weights = []\n",
    "num_svm_vectors = []"
   ]
  },
  {
   "cell_type": "code",
   "execution_count": 14,
   "metadata": {},
   "outputs": [],
   "source": [
    "for i in range(1000):\n",
    "    m, b = generate_target_function()\n",
    "    data = generate_data(m, b, 10)\n",
    "    \n",
    "    while len(np.unique(data[:, -1])) == 1:\n",
    "        data = generate_data(m, b, 100)\n",
    "\n",
    "    X = data[:, 0:3]\n",
    "    y = data[:, 3]\n",
    "    clflin = linear_model.Perceptron()\n",
    "    clflin.fit(X, y)\n",
    "    pla_weights.append(calc_error(clflin.coef_, y))\n",
    "    \n",
    "    clf = svm.SVC(kernel='linear', C=1e10)\n",
    "    clf.fit(X, y)\n",
    "    svm_weights.append(calc_error(clf.coef_, y))\n",
    "    num_svm_vectors.append(len(clf.support_vectors_))"
   ]
  },
  {
   "cell_type": "code",
   "execution_count": 15,
   "metadata": {},
   "outputs": [
    {
     "data": {
      "text/plain": [
       "0.625"
      ]
     },
     "execution_count": 15,
     "metadata": {},
     "output_type": "execute_result"
    }
   ],
   "source": [
    "counter = 0\n",
    "\n",
    "for pla_weight, svm_weight in zip(pla_weights, svm_weights):\n",
    "    if pla_weight < svm_weight:\n",
    "        counter+= 1\n",
    "\n",
    "counter / 1000"
   ]
  },
  {
   "cell_type": "code",
   "execution_count": 16,
   "metadata": {},
   "outputs": [
    {
     "data": {
      "text/plain": [
       "2.875"
      ]
     },
     "execution_count": 16,
     "metadata": {},
     "output_type": "execute_result"
    }
   ],
   "source": [
    "np.mean(num_svm_vectors)"
   ]
  }
 ],
 "metadata": {
  "kernelspec": {
   "display_name": "Python 3",
   "language": "python",
   "name": "python3"
  },
  "language_info": {
   "codemirror_mode": {
    "name": "ipython",
    "version": 3
   },
   "file_extension": ".py",
   "mimetype": "text/x-python",
   "name": "python",
   "nbconvert_exporter": "python",
   "pygments_lexer": "ipython3",
   "version": "3.10.7"
  }
 },
 "nbformat": 4,
 "nbformat_minor": 2
}
