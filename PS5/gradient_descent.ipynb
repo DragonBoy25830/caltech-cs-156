{
 "cells": [
  {
   "cell_type": "code",
   "execution_count": 1,
   "metadata": {},
   "outputs": [],
   "source": [
    "import numpy as np"
   ]
  },
  {
   "cell_type": "code",
   "execution_count": 2,
   "metadata": {},
   "outputs": [],
   "source": [
    "n = 0.1\n",
    "uv_array = [(1, 1)]"
   ]
  },
  {
   "cell_type": "code",
   "execution_count": 3,
   "metadata": {},
   "outputs": [],
   "source": [
    "def partial_Eu(u, v):\n",
    "    return 2 * (u * np.exp(v) - 2 * v * np.exp(-1 * u)) * (np.exp(v) + 2 * v * np.exp(-1 * u))"
   ]
  },
  {
   "cell_type": "code",
   "execution_count": 4,
   "metadata": {},
   "outputs": [],
   "source": [
    "def partial_Ev(u, v):\n",
    "    return 2 * (u * np.exp(v) - 2 * v * np.exp(-1 * u)) * (u * np.exp(v) - 2 * np.exp(-1 * u))"
   ]
  },
  {
   "cell_type": "code",
   "execution_count": 5,
   "metadata": {},
   "outputs": [],
   "source": [
    "def get_last_uv():\n",
    "    return uv_array[-1][0], uv_array[-1][1]"
   ]
  },
  {
   "cell_type": "code",
   "execution_count": 6,
   "metadata": {},
   "outputs": [],
   "source": [
    "def gradient_descent(n_in):\n",
    "    u_t, v_t = get_last_uv()\n",
    "    \n",
    "    u_t1 = u_t - n_in * partial_Eu(u_t, v_t)\n",
    "    v_t1 = v_t - n_in * partial_Ev(u_t, v_t)\n",
    "\n",
    "    uv_array.append((u_t1, v_t1))"
   ]
  },
  {
   "cell_type": "code",
   "execution_count": 7,
   "metadata": {},
   "outputs": [],
   "source": [
    "def calc_error(u, v):\n",
    "    return (u * np.exp(v) - 2 * v * np.exp(-1 * u)) ** 2"
   ]
  },
  {
   "cell_type": "code",
   "execution_count": 8,
   "metadata": {},
   "outputs": [
    {
     "name": "stdout",
     "output_type": "stream",
     "text": [
      "10\n"
     ]
    }
   ],
   "source": [
    "num_iter = 0\n",
    "\n",
    "while True:\n",
    "    u_t, v_t = get_last_uv()\n",
    "    \n",
    "    if calc_error(u_t, v_t) < 1e-14:\n",
    "        print(num_iter)\n",
    "        break\n",
    "    \n",
    "    gradient_descent(n)\n",
    "    num_iter += 1"
   ]
  },
  {
   "cell_type": "code",
   "execution_count": 9,
   "metadata": {},
   "outputs": [
    {
     "data": {
      "text/plain": [
       "(0.04473629039778207, 0.023958714099141746)"
      ]
     },
     "execution_count": 9,
     "metadata": {},
     "output_type": "execute_result"
    }
   ],
   "source": [
    "get_last_uv()"
   ]
  },
  {
   "cell_type": "code",
   "execution_count": 10,
   "metadata": {},
   "outputs": [],
   "source": [
    "def coordinate_descent(n_in):\n",
    "    u_t, v_t = get_last_uv()\n",
    "    \n",
    "    u_t1 = u_t - n_in * partial_Eu(u_t, v_t)\n",
    "    v_t1 = v_t - n_in * partial_Ev(u_t1, v_t)\n",
    "\n",
    "    uv_array.append((u_t1, v_t1))"
   ]
  },
  {
   "cell_type": "code",
   "execution_count": 11,
   "metadata": {},
   "outputs": [
    {
     "name": "stdout",
     "output_type": "stream",
     "text": [
      "1.925929944387236e-34\n"
     ]
    }
   ],
   "source": [
    "for i in range(15):\n",
    "    coordinate_descent(n)\n",
    "    \n",
    "    if i == 14:\n",
    "        u_t, v_t = get_last_uv()\n",
    "        print(calc_error(u_t, v_t))"
   ]
  }
 ],
 "metadata": {
  "kernelspec": {
   "display_name": "Python 3",
   "language": "python",
   "name": "python3"
  },
  "language_info": {
   "codemirror_mode": {
    "name": "ipython",
    "version": 3
   },
   "file_extension": ".py",
   "mimetype": "text/x-python",
   "name": "python",
   "nbconvert_exporter": "python",
   "pygments_lexer": "ipython3",
   "version": "3.10.7"
  }
 },
 "nbformat": 4,
 "nbformat_minor": 2
}
