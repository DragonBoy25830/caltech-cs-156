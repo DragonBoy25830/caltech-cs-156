{
 "cells": [
  {
   "cell_type": "code",
   "execution_count": 1,
   "metadata": {},
   "outputs": [],
   "source": [
    "import numpy as np\n",
    "import random as rand"
   ]
  },
  {
   "cell_type": "code",
   "execution_count": 2,
   "metadata": {},
   "outputs": [],
   "source": [
    "num_train_points = 100\n",
    "num_test_points = 1000\n",
    "learning_rate = 0.01"
   ]
  },
  {
   "cell_type": "code",
   "execution_count": 3,
   "metadata": {},
   "outputs": [],
   "source": [
    "def generate_target_function():\n",
    "    x0 = rand.uniform(-1, 1)\n",
    "    y0 = rand.uniform(-1, 1)\n",
    "    x1 = rand.uniform(-1, 1)\n",
    "    y1 = rand.uniform(-1, 1)\n",
    "\n",
    "    m_f = (y1 - y0) / (x1 - x0)\n",
    "    b_f = y0 - m_f * x0\n",
    "    f = [m_f, b_f]\n",
    "    \n",
    "    return f"
   ]
  },
  {
   "cell_type": "code",
   "execution_count": 4,
   "metadata": {},
   "outputs": [],
   "source": [
    "def classify_point(m, b, x, y):\n",
    "    expected_value = m * x + b\n",
    "    \n",
    "    if y >= expected_value:\n",
    "        return 1\n",
    "    else:\n",
    "        return -1"
   ]
  },
  {
   "cell_type": "code",
   "execution_count": 5,
   "metadata": {},
   "outputs": [],
   "source": [
    "def generate_data(m, b, num_points):\n",
    "    bias = [1 for _ in range(num_points)]\n",
    "    x1 = [rand.uniform(-1, 1) for _ in range(num_points)]\n",
    "    x2 = [rand.uniform(-1, 1) for _ in range(num_points)]\n",
    "\n",
    "    xn_pre_bias = np.column_stack((x1, x2))\n",
    "    xn = np.column_stack((bias, xn_pre_bias))\n",
    "    yn = [classify_point(m, b, x1, x2) for (bias, x1, x2) in xn]\n",
    "\n",
    "    training_data = np.column_stack((xn, yn))\n",
    "    \n",
    "    return training_data"
   ]
  },
  {
   "cell_type": "code",
   "execution_count": 6,
   "metadata": {},
   "outputs": [],
   "source": [
    "def norm(vec):\n",
    "    return np.sqrt(np.sum(vec * vec))"
   ]
  },
  {
   "cell_type": "code",
   "execution_count": 7,
   "metadata": {},
   "outputs": [],
   "source": [
    "def SGD(input_weight, training_data):\n",
    "    perm_training_data = np.random.permutation(training_data)\n",
    "    xn = np.transpose(np.delete(np.transpose(perm_training_data), 3, 0))\n",
    "    yn = np.transpose(np.transpose(perm_training_data)[3])\n",
    "\n",
    "    N = len(xn)\n",
    "\n",
    "    for i in range(N):\n",
    "        xi = xn[i]\n",
    "        yi = yn[i]\n",
    "        \n",
    "        gradient = -1 * (yi * xi) / (1 + np.exp(yi * np.dot(input_weight, xi)))\n",
    "        input_weight = input_weight - learning_rate * gradient\n",
    "    \n",
    "    return input_weight"
   ]
  },
  {
   "cell_type": "code",
   "execution_count": 8,
   "metadata": {},
   "outputs": [],
   "source": [
    "def calc_cross_entropy_error(testing_data, weight):\n",
    "    xn = np.transpose(np.delete(np.transpose(testing_data), 3, 0))\n",
    "    yn = np.transpose(np.transpose(testing_data)[3])\n",
    "    \n",
    "    N = len(xn)\n",
    "    \n",
    "    error = 0\n",
    "    \n",
    "    for i in range(N):\n",
    "        xi = xn[i]\n",
    "        yi = yn[i]\n",
    "        \n",
    "        error += np.log(1 + np.exp(-yi * np.dot(weight, xi)))\n",
    "    \n",
    "    return (1 / N) * error"
   ]
  },
  {
   "cell_type": "code",
   "execution_count": 9,
   "metadata": {},
   "outputs": [],
   "source": [
    "Eout_errors = []\n",
    "epoch_weights = np.array([[0, 0, 0]])\n",
    "num_epochs_arr = []"
   ]
  },
  {
   "cell_type": "code",
   "execution_count": 12,
   "metadata": {},
   "outputs": [],
   "source": [
    "def run_experiment():\n",
    "    m_f, b_f = generate_target_function()\n",
    "    # generate target function\n",
    "    train_data = generate_data(m_f, b_f, num_train_points)\n",
    "\n",
    "    # run SGD\n",
    "        # run N epochs till subsequent weights are within two decimal places\n",
    "    \n",
    "    prev_weight = epoch_weights[-1]\n",
    "    weight = SGD(prev_weight, train_data)\n",
    "    epoch_iter = 1\n",
    "    \n",
    "    while norm(prev_weight - weight) >= 0.01:\n",
    "        np.append(epoch_weights, [weight], axis=0)\n",
    "        prev_weight = weight\n",
    "        weight = SGD(prev_weight, train_data)\n",
    "        epoch_iter += 1\n",
    "\n",
    "    num_epochs_arr.append(epoch_iter)\n",
    "    # generate testing data\n",
    "    testing_data = generate_data(m_f, b_f, num_test_points)\n",
    "    # estimate E_out\n",
    "    Eout_errors.append(calc_cross_entropy_error(testing_data, weight))"
   ]
  },
  {
   "cell_type": "code",
   "execution_count": 13,
   "metadata": {},
   "outputs": [],
   "source": [
    "for i in range(100):\n",
    "    run_experiment()"
   ]
  },
  {
   "cell_type": "code",
   "execution_count": 14,
   "metadata": {},
   "outputs": [
    {
     "data": {
      "text/plain": [
       "0.10069016921792245"
      ]
     },
     "execution_count": 14,
     "metadata": {},
     "output_type": "execute_result"
    }
   ],
   "source": [
    "np.mean(Eout_errors)"
   ]
  },
  {
   "cell_type": "code",
   "execution_count": 15,
   "metadata": {},
   "outputs": [
    {
     "data": {
      "text/plain": [
       "335.5"
      ]
     },
     "execution_count": 15,
     "metadata": {},
     "output_type": "execute_result"
    }
   ],
   "source": [
    "np.mean(num_epochs_arr)"
   ]
  }
 ],
 "metadata": {
  "kernelspec": {
   "display_name": "Python 3",
   "language": "python",
   "name": "python3"
  },
  "language_info": {
   "codemirror_mode": {
    "name": "ipython",
    "version": 3
   },
   "file_extension": ".py",
   "mimetype": "text/x-python",
   "name": "python",
   "nbconvert_exporter": "python",
   "pygments_lexer": "ipython3",
   "version": "3.10.7"
  }
 },
 "nbformat": 4,
 "nbformat_minor": 2
}
