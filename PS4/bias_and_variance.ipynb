{
 "cells": [
  {
   "cell_type": "code",
   "execution_count": 31,
   "metadata": {},
   "outputs": [],
   "source": [
    "import numpy as np\n",
    "import matplotlib.pyplot as plt"
   ]
  },
  {
   "cell_type": "code",
   "execution_count": 32,
   "metadata": {},
   "outputs": [],
   "source": [
    "f = lambda x: np.sin(x)"
   ]
  },
  {
   "cell_type": "code",
   "execution_count": 33,
   "metadata": {},
   "outputs": [],
   "source": [
    "x = np.pi * np.linspace(-1, 1, 5000)\n",
    "y = f(x)"
   ]
  },
  {
   "cell_type": "code",
   "execution_count": 34,
   "metadata": {},
   "outputs": [
    {
     "data": {
      "text/plain": [
       "[<matplotlib.lines.Line2D at 0x203fad79330>]"
      ]
     },
     "execution_count": 34,
     "metadata": {},
     "output_type": "execute_result"
    },
    {
     "data": {
      "image/png": "[encoded data removed]",
      "text/plain": [
       "<Figure size 640x480 with 1 Axes>"
      ]
     },
     "metadata": {},
     "output_type": "display_data"
    }
   ],
   "source": [
    "plt.plot(x, y)"
   ]
  },
  {
   "cell_type": "code",
   "execution_count": 35,
   "metadata": {},
   "outputs": [],
   "source": [
    "random_indices = np.random.choice(np.linspace(0, len(x) - 1, len(x)), 2)\n",
    "training_set_x = np.array([x[int(random_indices[0])], x[int(random_indices[1])]])\n",
    "training_set_y = np.array([y[int(random_indices[0])], y[int(random_indices[1])]])"
   ]
  },
  {
   "cell_type": "code",
   "execution_count": 36,
   "metadata": {},
   "outputs": [],
   "source": [
    "def calc_mean_square(m, train_x, pred_y):\n",
    "    actual_y = []\n",
    "    for x in train_x:\n",
    "        actual_y.append(m * x)\n",
    "    \n",
    "    return np.square(np.subtract(actual_y, pred_y)).mean() "
   ]
  },
  {
   "cell_type": "code",
   "execution_count": 37,
   "metadata": {},
   "outputs": [],
   "source": [
    "mean_squares = []"
   ]
  },
  {
   "cell_type": "code",
   "execution_count": 38,
   "metadata": {},
   "outputs": [],
   "source": [
    "hypothesis_m = np.linspace(-5, 5, 1000)\n",
    "\n",
    "for m in hypothesis_m:\n",
    "    mean_squares.append((m, calc_mean_square(m, training_set_x, training_set_y)))"
   ]
  },
  {
   "cell_type": "code",
   "execution_count": 39,
   "metadata": {},
   "outputs": [],
   "source": [
    "def calc_min_mean_square(mean_square_arr):\n",
    "    min_mean_square = float('inf')\n",
    "    min_m = float('inf')\n",
    "\n",
    "    for m, mean_square in mean_square_arr:\n",
    "        if mean_square < min_mean_square:\n",
    "            min_mean_square = mean_square\n",
    "            min_m = m\n",
    "    \n",
    "    return min_m"
   ]
  },
  {
   "cell_type": "code",
   "execution_count": 40,
   "metadata": {},
   "outputs": [],
   "source": [
    "mean_squares_arr = []"
   ]
  },
  {
   "cell_type": "code",
   "execution_count": 41,
   "metadata": {},
   "outputs": [],
   "source": [
    "def run_trial():\n",
    "    random_indices = np.random.choice(np.linspace(0, len(x) - 1, len(x)), 2)\n",
    "    training_set_x = np.array([x[int(random_indices[0])], x[int(random_indices[1])]])\n",
    "    training_set_y = np.array([y[int(random_indices[0])], y[int(random_indices[1])]])\n",
    "    \n",
    "    mean_squares = []\n",
    "    \n",
    "    for m in hypothesis_m:\n",
    "        mean_squares.append((m, calc_mean_square(m, training_set_x, training_set_y)))\n",
    "    \n",
    "    mean_squares_arr.append(calc_min_mean_square(mean_squares))"
   ]
  },
  {
   "cell_type": "code",
   "execution_count": 42,
   "metadata": {},
   "outputs": [],
   "source": [
    "for i in range(10000):\n",
    "    run_trial()"
   ]
  },
  {
   "cell_type": "code",
   "execution_count": 46,
   "metadata": {},
   "outputs": [
    {
     "data": {
      "text/plain": [
       "0.4506566566566565"
      ]
     },
     "execution_count": 46,
     "metadata": {},
     "output_type": "execute_result"
    }
   ],
   "source": [
    "a_hat = np.mean(mean_squares_arr)\n",
    "a_hat"
   ]
  },
  {
   "cell_type": "code",
   "execution_count": 44,
   "metadata": {},
   "outputs": [
    {
     "data": {
      "text/plain": [
       "0.28079942557307813"
      ]
     },
     "execution_count": 44,
     "metadata": {},
     "output_type": "execute_result"
    }
   ],
   "source": [
    "x_fine_range = np.linspace(-1, 1, 100000)\n",
    "bias = np.average((a_hat * x_fine_range - np.sin(np.pi * x_fine_range))**2 )\n",
    "bias"
   ]
  },
  {
   "cell_type": "code",
   "execution_count": 45,
   "metadata": {},
   "outputs": [
    {
     "name": "stdout",
     "output_type": "stream",
     "text": [
      "0.02415134645276338\n"
     ]
    }
   ],
   "source": [
    "var_list = []\n",
    "for a in mean_squares_arr:\n",
    "    var = np.average((x_fine_range * a - a_hat * x_fine_range) ** 2)\n",
    "    var_list.append(var)\n",
    "\n",
    "print(np.average(var_list))"
   ]
  }
 ],
 "metadata": {
  "kernelspec": {
   "display_name": "Python 3",
   "language": "python",
   "name": "python3"
  },
  "language_info": {
   "codemirror_mode": {
    "name": "ipython",
    "version": 3
   },
   "file_extension": ".py",
   "mimetype": "text/x-python",
   "name": "python",
   "nbconvert_exporter": "python",
   "pygments_lexer": "ipython3",
   "version": "3.10.7"
  }
 },
 "nbformat": 4,
 "nbformat_minor": 2
}
