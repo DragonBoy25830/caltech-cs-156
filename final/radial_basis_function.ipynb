{
 "cells": [
  {
   "cell_type": "code",
   "execution_count": 1,
   "metadata": {},
   "outputs": [],
   "source": [
    "import numpy as np\n",
    "from sklearn.svm import SVC\n",
    "from sklearn.cluster import KMeans\n",
    "import random as rand"
   ]
  },
  {
   "cell_type": "code",
   "execution_count": 2,
   "metadata": {},
   "outputs": [],
   "source": [
    "num_points = 100\n",
    "num_iterations = 10000"
   ]
  },
  {
   "cell_type": "code",
   "execution_count": 3,
   "metadata": {},
   "outputs": [],
   "source": [
    "def generate_training_points(num_points):\n",
    "    xn = np.array([(1, rand.uniform(-1, 1), rand.uniform(-1, 1)) for _ in range(num_points)])\n",
    "    yn = np.array([np.sign(x2 - x1 + 0.25 * np.sin(np.pi * x1)) for _, x1, x2 in xn])\n",
    "    \n",
    "    return xn, yn"
   ]
  },
  {
   "cell_type": "code",
   "execution_count": 4,
   "metadata": {},
   "outputs": [],
   "source": [
    "def calc_error(yn, y_pred):\n",
    "    # misclassified points are opposite sign so will be -1 when multiplied\n",
    "    error = yn * y_pred\n",
    "    return np.count_nonzero(error == -1) / len(yn)"
   ]
  },
  {
   "cell_type": "code",
   "execution_count": 5,
   "metadata": {},
   "outputs": [],
   "source": [
    "def run_svm(xn, yn, C=1):\n",
    "    model = SVC(C=C, kernel='rbf', gamma=1.5)\n",
    "    model.fit(xn, yn)\n",
    "    \n",
    "    Ein = np.sum(model.predict(xn)*yn<0)/(1.*yn.size)\n",
    "    \n",
    "    return Ein, model"
   ]
  },
  {
   "cell_type": "markdown",
   "metadata": {},
   "source": [
    "Q13"
   ]
  },
  {
   "cell_type": "code",
   "execution_count": 6,
   "metadata": {},
   "outputs": [
    {
     "name": "stdout",
     "output_type": "stream",
     "text": [
      "Rate of data set not being separable by RBF: 4.97%\n"
     ]
    }
   ],
   "source": [
    "counter = 0\n",
    "\n",
    "for i in range(num_iterations):\n",
    "    xn, yn = generate_training_points(num_points)\n",
    "    Ein, _ = run_svm(xn, yn)\n",
    "    \n",
    "    if (Ein == 0):\n",
    "        counter += 1\n",
    "        \n",
    "print(f\"Rate of data set not being separable by RBF: {100 * counter / num_iterations}%\")"
   ]
  },
  {
   "cell_type": "markdown",
   "metadata": {},
   "source": [
    "Q14"
   ]
  },
  {
   "cell_type": "code",
   "execution_count": 7,
   "metadata": {},
   "outputs": [],
   "source": [
    "def rbf1(x,mu0,gamma=1.5):\n",
    "    return( np.exp(-gamma*np.sum((x-mu0)**2)) )"
   ]
  },
  {
   "cell_type": "code",
   "execution_count": 8,
   "metadata": {},
   "outputs": [],
   "source": [
    "def rbf(xn, centers, gamma):\n",
    "    z = np.zeros((xn.shape[0], 1+centers.shape[0]))  # N x (K+1), extra 1 for intercept\n",
    "    z[:,0] = np.ones(xn.shape[0])\n",
    "    \n",
    "    for i in range(centers.shape[0]):\n",
    "        z[:,i+1] = np.apply_along_axis(rbf1, 1, xn, centers[i],gamma)\n",
    "    \n",
    "    return z"
   ]
  },
  {
   "cell_type": "code",
   "execution_count": 9,
   "metadata": {},
   "outputs": [],
   "source": [
    "def calculate_w_reg(Z, ZT, lambda_value, y):\n",
    "    step_1 = np.matmul(ZT, Z)\n",
    "    step_2 = step_1 + lambda_value * np.identity(len(step_1))\n",
    "    step_3 = np.linalg.inv(step_2)\n",
    "    step_4 = np.matmul(step_3, ZT)\n",
    "    w_reg = np.matmul(step_4, y)\n",
    "    \n",
    "    return w_reg"
   ]
  },
  {
   "cell_type": "code",
   "execution_count": 38,
   "metadata": {},
   "outputs": [],
   "source": [
    "def regular_rbf(xn, yn, n_clusters, gamma):\n",
    "    kmeans = KMeans(n_clusters=n_clusters).fit(xn)\n",
    "    \n",
    "    centers = kmeans.cluster_centers_\n",
    "    \n",
    "    z = rbf(xn, centers, gamma=gamma)\n",
    "    \n",
    "    w = calculate_w_reg(z, z.T, 0, yn)\n",
    "    \n",
    "    y_pred = np.dot(z, w)\n",
    "    \n",
    "    Ein = np.sum(y_pred*yn<0)/(1.*yn.size)\n",
    "    \n",
    "    return Ein, w, centers"
   ]
  },
  {
   "cell_type": "code",
   "execution_count": 39,
   "metadata": {},
   "outputs": [],
   "source": [
    "def run_experiment(num_clusters, gamma=1.5):\n",
    "    xn, yn = generate_training_points(num_points)\n",
    "    xn_test, yn_test = generate_training_points(num_points)\n",
    "    \n",
    "    # regular RBF\n",
    "    Ein_regular, w, centers = regular_rbf(xn, yn, num_clusters, gamma=gamma)\n",
    "    \n",
    "    z_out = rbf(xn_test, centers, gamma=gamma)\n",
    "    \n",
    "    y_pred = np.dot(z_out, w)\n",
    "    \n",
    "    Eout_regular = np.sum(y_pred*yn_test<0)/(1.*yn_test.size)\n",
    "    \n",
    "    # kernel RBF\n",
    "    _, model = run_svm(xn, yn, C=1e6)\n",
    "    y_pred_regular = model.predict(xn_test)\n",
    "    Ein_kernel = np.sum(y_pred_regular*yn<0)/(1.*yn.size)\n",
    "    Eout_kernel = np.sum(y_pred_regular*yn_test<0)/(1.*yn_test.size)\n",
    "    \n",
    "    return Ein_regular, Eout_regular, Ein_kernel, Eout_kernel"
   ]
  },
  {
   "cell_type": "code",
   "execution_count": 40,
   "metadata": {},
   "outputs": [],
   "source": [
    "eout_regular_arr = []\n",
    "eout_kernel_arr = []\n",
    "\n",
    "for i in range(100):\n",
    "    _, Eout_regular, _, Eout_kernel = run_experiment(num_clusters=9)\n",
    "    \n",
    "    eout_regular_arr.append(Eout_regular)\n",
    "    eout_kernel_arr.append(Eout_kernel)"
   ]
  },
  {
   "cell_type": "code",
   "execution_count": 41,
   "metadata": {},
   "outputs": [
    {
     "name": "stdout",
     "output_type": "stream",
     "text": [
      "Kernel beating regular: 79.0%\n"
     ]
    }
   ],
   "source": [
    "counter = 0\n",
    "\n",
    "for (Eout_regular, Eout_kernel) in zip(eout_regular_arr, eout_kernel_arr):\n",
    "    if (Eout_kernel < Eout_regular):\n",
    "        counter += 1\n",
    "        \n",
    "print(f\"Kernel beating regular: {100 * counter / 100}%\")"
   ]
  },
  {
   "cell_type": "markdown",
   "metadata": {},
   "source": [
    "Q15"
   ]
  },
  {
   "cell_type": "code",
   "execution_count": 15,
   "metadata": {},
   "outputs": [],
   "source": [
    "eout_regular_arr = []\n",
    "eout_kernel_arr = []\n",
    "\n",
    "for i in range(100):\n",
    "    _, Eout_regular, _, Eout_kernel = run_experiment(num_clusters=12)\n",
    "    \n",
    "    eout_regular_arr.append(Eout_regular)\n",
    "    eout_kernel_arr.append(Eout_kernel)"
   ]
  },
  {
   "cell_type": "code",
   "execution_count": 16,
   "metadata": {},
   "outputs": [
    {
     "name": "stdout",
     "output_type": "stream",
     "text": [
      "Kernel beating regular: 61.0%\n"
     ]
    }
   ],
   "source": [
    "counter = 0\n",
    "\n",
    "for (Eout_regular, Eout_kernel) in zip(eout_regular_arr, eout_kernel_arr):\n",
    "    if (Eout_kernel < Eout_regular):\n",
    "        counter += 1\n",
    "        \n",
    "print(f\"Kernel beating regular: {100 * counter / 100}%\")"
   ]
  },
  {
   "cell_type": "markdown",
   "metadata": {},
   "source": [
    "Q16"
   ]
  },
  {
   "cell_type": "code",
   "execution_count": 17,
   "metadata": {},
   "outputs": [],
   "source": [
    "Ein_9 = []\n",
    "Ein_12 = []\n",
    "Eout_9 = []\n",
    "Eout_12 = []"
   ]
  },
  {
   "cell_type": "code",
   "execution_count": 18,
   "metadata": {},
   "outputs": [],
   "source": [
    "for i in range(100):\n",
    "    Ein, Eout, _, _ = run_experiment(num_clusters=9)\n",
    "    Ein_9.append(Ein)\n",
    "    Eout_9.append(Eout)\n",
    "    \n",
    "    Ein, Eout, _, _ = run_experiment(num_clusters=12)\n",
    "    Ein_12.append(Ein)\n",
    "    Eout_12.append(Eout)"
   ]
  },
  {
   "cell_type": "code",
   "execution_count": 19,
   "metadata": {},
   "outputs": [
    {
     "data": {
      "text/plain": [
       "(28, 9, 12, 51)"
      ]
     },
     "execution_count": 19,
     "metadata": {},
     "output_type": "execute_result"
    }
   ],
   "source": [
    "Ein_down_Eout_up = 0\n",
    "Ein_up_Eout_down = 0\n",
    "Ein_up_Eout_up = 0\n",
    "Ein_down_Eout_down = 0\n",
    "\n",
    "for ein9, ein12, eout9, eout12 in zip(Ein_9, Ein_12, Eout_9, Eout_12):\n",
    "    if (ein9 < ein12):\n",
    "        if eout9 < eout12:\n",
    "            Ein_up_Eout_up += 1\n",
    "        else:\n",
    "            Ein_up_Eout_down += 1\n",
    "    \n",
    "    else:\n",
    "        if eout9 < eout12:\n",
    "            Ein_down_Eout_up += 1\n",
    "        else:\n",
    "            Ein_down_Eout_down += 1\n",
    "            \n",
    "Ein_down_Eout_up, Ein_up_Eout_down, Ein_up_Eout_up, Ein_down_Eout_down"
   ]
  },
  {
   "cell_type": "markdown",
   "metadata": {},
   "source": [
    "Q17"
   ]
  },
  {
   "cell_type": "code",
   "execution_count": 29,
   "metadata": {},
   "outputs": [],
   "source": [
    "Ein_15 = []\n",
    "Ein_2 = []\n",
    "Eout_15 = []\n",
    "Eout_2 = []"
   ]
  },
  {
   "cell_type": "code",
   "execution_count": 30,
   "metadata": {},
   "outputs": [],
   "source": [
    "for i in range(100):\n",
    "    Ein, Eout, _, _ = run_experiment(num_clusters=9, gamma=1.5)\n",
    "    Ein_15.append(Ein)\n",
    "    Eout_15.append(Eout)\n",
    "    \n",
    "    Ein, Eout, _, _ = run_experiment(num_clusters=9, gamma=2)\n",
    "    Ein_2.append(Ein)\n",
    "    Eout_2.append(Eout)"
   ]
  },
  {
   "cell_type": "code",
   "execution_count": 31,
   "metadata": {},
   "outputs": [
    {
     "data": {
      "text/plain": [
       "(17, 18, 36, 29)"
      ]
     },
     "execution_count": 31,
     "metadata": {},
     "output_type": "execute_result"
    }
   ],
   "source": [
    "Ein_down_Eout_up = 0\n",
    "Ein_up_Eout_down = 0\n",
    "Ein_up_Eout_up = 0\n",
    "Ein_down_Eout_down = 0\n",
    "\n",
    "for ein15, ein2, eout15, eout2 in zip(Ein_15, Ein_2, Eout_15, Eout_2):\n",
    "    if (ein15 < ein2):\n",
    "        if eout15 < eout2:\n",
    "            Ein_up_Eout_up += 1\n",
    "        else:\n",
    "            Ein_up_Eout_down += 1\n",
    "    \n",
    "    else:\n",
    "        if eout15 < eout2:\n",
    "            Ein_down_Eout_up += 1\n",
    "        else:\n",
    "            Ein_down_Eout_down += 1\n",
    "            \n",
    "Ein_down_Eout_up, Ein_up_Eout_down, Ein_up_Eout_up, Ein_down_Eout_down"
   ]
  },
  {
   "cell_type": "markdown",
   "metadata": {},
   "source": [
    "Q18"
   ]
  },
  {
   "cell_type": "code",
   "execution_count": 23,
   "metadata": {},
   "outputs": [
    {
     "name": "stdout",
     "output_type": "stream",
     "text": [
      "Percentage of time regular RBF achieves Ein=0: 2.9%\n"
     ]
    }
   ],
   "source": [
    "counter = 0\n",
    "\n",
    "for i in range(1000):\n",
    "    Ein, _, _, _ = run_experiment(num_clusters=9, gamma=1.5)\n",
    "    \n",
    "    if (Ein == 0):\n",
    "        counter += 1\n",
    "\n",
    "print(f\"Percentage of time regular RBF achieves Ein=0: {100 * counter / 1000}%\")"
   ]
  },
  {
   "cell_type": "code",
   "execution_count": null,
   "metadata": {},
   "outputs": [],
   "source": []
  }
 ],
 "metadata": {
  "kernelspec": {
   "display_name": "Python 3",
   "language": "python",
   "name": "python3"
  },
  "language_info": {
   "codemirror_mode": {
    "name": "ipython",
    "version": 3
   },
   "file_extension": ".py",
   "mimetype": "text/x-python",
   "name": "python",
   "nbconvert_exporter": "python",
   "pygments_lexer": "ipython3",
   "version": "3.10.7"
  }
 },
 "nbformat": 4,
 "nbformat_minor": 2
}
