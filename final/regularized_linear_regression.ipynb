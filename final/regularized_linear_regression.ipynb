{
 "cells": [
  {
   "cell_type": "code",
   "execution_count": 1,
   "metadata": {},
   "outputs": [],
   "source": [
    "import numpy as np"
   ]
  },
  {
   "cell_type": "code",
   "execution_count": 2,
   "metadata": {},
   "outputs": [],
   "source": [
    "training_features = np.loadtxt(\"features.train\")\n",
    "testing_features = np.loadtxt(\"features.test\")"
   ]
  },
  {
   "cell_type": "code",
   "execution_count": 3,
   "metadata": {},
   "outputs": [],
   "source": [
    "def split_data(one_versus_all, dataset, choice1, choice2):\n",
    "    to_return = dataset\n",
    "    if not one_versus_all:\n",
    "        to_return = []\n",
    "        \n",
    "        for digit, intensity, symmetry in dataset:\n",
    "            if digit == choice1 or digit == choice2:\n",
    "                to_return.append([digit, intensity, symmetry])\n",
    "\n",
    "    to_return = np.array(to_return)\n",
    "    digits = to_return[:, 0]\n",
    "    intensity = to_return[:, 1]\n",
    "    symmetry = to_return[:, 2]\n",
    "    \n",
    "    return digits, intensity, symmetry"
   ]
  },
  {
   "cell_type": "code",
   "execution_count": 4,
   "metadata": {},
   "outputs": [],
   "source": [
    "def generate_one_versus_all_yn(digits, one_choice):\n",
    "    yn = np.ones(len(digits))\n",
    "    \n",
    "    for i, digit in enumerate(digits):\n",
    "        if digit != one_choice:\n",
    "            yn[i] = -1\n",
    "            \n",
    "    return np.array(yn)"
   ]
  },
  {
   "cell_type": "code",
   "execution_count": 5,
   "metadata": {},
   "outputs": [],
   "source": [
    "def parse_digits(digits, choice1, choice2):\n",
    "    result = []\n",
    "    \n",
    "    for digit in digits:\n",
    "        if digit == choice1 or digit == choice2:\n",
    "            result.append(digit)\n",
    "            \n",
    "    return digits"
   ]
  },
  {
   "cell_type": "code",
   "execution_count": 6,
   "metadata": {},
   "outputs": [],
   "source": [
    "def generate_one_versus_one_yn(digits, choice1, choice2):\n",
    "    parsed_digits = parse_digits(digits, choice1, choice2)\n",
    "    yn = np.ones(len(parsed_digits))\n",
    "    \n",
    "    for i, digit in enumerate(digits):\n",
    "        if digit == choice2:\n",
    "            yn[i] = -1\n",
    "    \n",
    "    return yn"
   ]
  },
  {
   "cell_type": "code",
   "execution_count": 7,
   "metadata": {},
   "outputs": [],
   "source": [
    "def calc_error(classification, w, z_transform):\n",
    "    yn = classification\n",
    "    counter = 0\n",
    "    for i in range(len(z_transform)):\n",
    "        z = z_transform[i]\n",
    "        w_val = np.sign(np.dot(w, z))\n",
    "        \n",
    "        if w_val != yn[i]:\n",
    "            counter += 1\n",
    "    \n",
    "    return counter / len(classification)"
   ]
  },
  {
   "cell_type": "code",
   "execution_count": 8,
   "metadata": {},
   "outputs": [],
   "source": [
    "def transform_data(x1, x2):\n",
    "    return (1, x1, x2)"
   ]
  },
  {
   "cell_type": "code",
   "execution_count": 9,
   "metadata": {},
   "outputs": [],
   "source": [
    "def calculate_w_reg(Z, ZT, lambda_value, y):\n",
    "    step_1 = np.matmul(ZT, Z)\n",
    "    step_2 = step_1 + lambda_value * np.identity(len(step_1))\n",
    "    step_3 = np.linalg.inv(step_2)\n",
    "    step_4 = np.matmul(step_3, ZT)\n",
    "    w_reg = np.matmul(step_4, y)\n",
    "    \n",
    "    return w_reg"
   ]
  },
  {
   "cell_type": "code",
   "execution_count": 10,
   "metadata": {},
   "outputs": [],
   "source": [
    "def run_regularized_linear_regression(lambda_value, one_versus_all, choice, choice1=-1):\n",
    "    digits_train, intensities_train, symmetries_train = split_data(one_versus_all, training_features, choice, choice1)\n",
    "    digits_test, intensities_test, symmetries_test = split_data(one_versus_all, testing_features, choice, choice1)\n",
    "    \n",
    "    if (one_versus_all):\n",
    "        yn_train = generate_one_versus_all_yn(digits_train, choice)\n",
    "        yn_test = generate_one_versus_all_yn(digits_test, choice)\n",
    "    \n",
    "    else:\n",
    "        yn_train = generate_one_versus_one_yn(digits_train, choice, choice1)\n",
    "        yn_test = generate_one_versus_one_yn(digits_test, choice, choice1)\n",
    "\n",
    "    xn_train = np.column_stack((intensities_train, symmetries_train))\n",
    "    xn_train_transform = np.array([transform_data(x1, x2) for (x1, x2) in xn_train])\n",
    "    \n",
    "    xn_test= np.column_stack((intensities_test, symmetries_test))\n",
    "    xn_test_transform = np.array([transform_data(x1, x2) for (x1, x2) in xn_test])\n",
    "\n",
    "    w_reg = calculate_w_reg(xn_train_transform, np.transpose(xn_train_transform), lambda_value, yn_train)\n",
    "    \n",
    "    Ein = calc_error(yn_train, w_reg, xn_train_transform)\n",
    "    Eout = calc_error(yn_test, w_reg, xn_test_transform)\n",
    "    \n",
    "    return Ein, Eout"
   ]
  },
  {
   "cell_type": "markdown",
   "metadata": {},
   "source": [
    "Q7"
   ]
  },
  {
   "cell_type": "code",
   "execution_count": 11,
   "metadata": {},
   "outputs": [
    {
     "name": "stdout",
     "output_type": "stream",
     "text": [
      "E_in for 5 vs. all: 0.07625840076807022\n",
      "E_in for 6 vs. all: 0.09107118365107666\n",
      "E_in for 7 vs. all: 0.08846523110684405\n",
      "E_in for 8 vs. all: 0.07433822520916199\n",
      "E_in for 9 vs. all: 0.08832807570977919\n"
     ]
    }
   ],
   "source": [
    "choices = [5, 6, 7, 8, 9]\n",
    "\n",
    "for choice in choices:\n",
    "    Ein, _ = run_regularized_linear_regression(lambda_value=1, one_versus_all=True, choice=choice)\n",
    "    print(f\"E_in for {choice} vs. all: {Ein}\")"
   ]
  },
  {
   "cell_type": "markdown",
   "metadata": {},
   "source": [
    "Q8"
   ]
  },
  {
   "cell_type": "code",
   "execution_count": 12,
   "metadata": {},
   "outputs": [],
   "source": [
    "def transform_data(x1, x2):\n",
    "    return (1, x1, x2, x1 * x2, x1 * x1, x2 * x2)"
   ]
  },
  {
   "cell_type": "code",
   "execution_count": 22,
   "metadata": {},
   "outputs": [
    {
     "name": "stdout",
     "output_type": "stream",
     "text": [
      "E_out for 0 vs. all: 0.10662680617837568\n",
      "E_out for 1 vs. all: 0.02192326856003986\n",
      "E_out for 2 vs. all: 0.09865470852017937\n",
      "E_out for 3 vs. all: 0.08271051320378675\n",
      "E_out for 4 vs. all: 0.09965122072745392\n"
     ]
    }
   ],
   "source": [
    "choices = [0, 1, 2, 3, 4]\n",
    "\n",
    "for choice in choices:\n",
    "    _, Eout = run_regularized_linear_regression(lambda_value=1, one_versus_all=True, choice=choice)\n",
    "    print(f\"E_out for {choice} vs. all: {Eout}\")"
   ]
  },
  {
   "cell_type": "markdown",
   "metadata": {},
   "source": [
    "Q9"
   ]
  },
  {
   "cell_type": "code",
   "execution_count": 14,
   "metadata": {},
   "outputs": [],
   "source": [
    "Eout_no_transform = []\n",
    "Eout_transform = []"
   ]
  },
  {
   "cell_type": "code",
   "execution_count": 15,
   "metadata": {},
   "outputs": [],
   "source": [
    "def transform_data(x1, x2):\n",
    "    return (1, x1, x2)"
   ]
  },
  {
   "cell_type": "code",
   "execution_count": 23,
   "metadata": {},
   "outputs": [
    {
     "name": "stdout",
     "output_type": "stream",
     "text": [
      "E_out for 0 vs. all: 0.10662680617837568\n",
      "E_out for 1 vs. all: 0.02192326856003986\n",
      "E_out for 2 vs. all: 0.09865470852017937\n",
      "E_out for 3 vs. all: 0.08271051320378675\n",
      "E_out for 4 vs. all: 0.09965122072745392\n",
      "E_out for 5 vs. all: 0.07922272047832586\n",
      "E_out for 6 vs. all: 0.08470353761833582\n",
      "E_out for 7 vs. all: 0.07324364723467862\n",
      "E_out for 8 vs. all: 0.08271051320378675\n",
      "E_out for 9 vs. all: 0.08819133034379671\n"
     ]
    }
   ],
   "source": [
    "choices = [0, 1, 2, 3, 4, 5, 6, 7, 8, 9]\n",
    "\n",
    "for choice in choices:\n",
    "    _, Eout = run_regularized_linear_regression(lambda_value=1, one_versus_all=True, choice=choice)\n",
    "    Eout_no_transform.append(Eout)\n",
    "    print(f\"E_out for {choice} vs. all: {Eout}\")"
   ]
  },
  {
   "cell_type": "code",
   "execution_count": 17,
   "metadata": {},
   "outputs": [],
   "source": [
    "def transform_data(x1, x2):\n",
    "    return (1, x1, x2, x1 * x2, x1 * x1, x2 * x2)"
   ]
  },
  {
   "cell_type": "code",
   "execution_count": 24,
   "metadata": {},
   "outputs": [
    {
     "name": "stdout",
     "output_type": "stream",
     "text": [
      "E_out for 0 vs. all: 0.10662680617837568\n",
      "E_out for 1 vs. all: 0.02192326856003986\n",
      "E_out for 2 vs. all: 0.09865470852017937\n",
      "E_out for 3 vs. all: 0.08271051320378675\n",
      "E_out for 4 vs. all: 0.09965122072745392\n",
      "E_out for 5 vs. all: 0.07922272047832586\n",
      "E_out for 6 vs. all: 0.08470353761833582\n",
      "E_out for 7 vs. all: 0.07324364723467862\n",
      "E_out for 8 vs. all: 0.08271051320378675\n",
      "E_out for 9 vs. all: 0.08819133034379671\n"
     ]
    }
   ],
   "source": [
    "choices = [0, 1, 2, 3, 4, 5, 6, 7, 8, 9]\n",
    "\n",
    "for choice in choices:\n",
    "    _, Eout = run_regularized_linear_regression(lambda_value=1, one_versus_all=True, choice=choice)\n",
    "    Eout_transform.append(Eout)\n",
    "    print(f\"E_out for {choice} vs. all: {Eout}\")"
   ]
  },
  {
   "cell_type": "code",
   "execution_count": 19,
   "metadata": {},
   "outputs": [
    {
     "name": "stdout",
     "output_type": "stream",
     "text": [
      "Classifier -->\tEout no transform | Eout with transform\n",
      "0 vs. all --> 0.11509715994020926 > 0.10662680617837568\n",
      "1 vs. all --> 0.02242152466367713 > 0.02192326856003986\n",
      "2 vs. all --> 0.09865470852017937 ≤ 0.09865470852017937\n",
      "3 vs. all --> 0.08271051320378675 ≤ 0.08271051320378675\n",
      "4 vs. all --> 0.09965122072745392 ≤ 0.09965122072745392\n",
      "5 vs. all --> 0.07972097658196313 > 0.07922272047832586\n",
      "6 vs. all --> 0.08470353761833582 ≤ 0.08470353761833582\n",
      "7 vs. all --> 0.07324364723467862 ≤ 0.07324364723467862\n",
      "8 vs. all --> 0.08271051320378675 ≤ 0.08271051320378675\n",
      "9 vs. all --> 0.08819133034379671 ≤ 0.08819133034379671\n"
     ]
    }
   ],
   "source": [
    "# show that b, c, and d are wrong\n",
    "print(\"Classifier -->\\tEout no transform | Eout with transform\")\n",
    "for i, (e1, e2) in enumerate(zip(Eout_no_transform, Eout_transform)):\n",
    "    if (e1 > e2):\n",
    "        print(f\"{i} vs. all --> {e1} > {e2}\")\n",
    "    \n",
    "    else:\n",
    "        print(f\"{i} vs. all --> {e1} ≤ {e2}\")"
   ]
  },
  {
   "cell_type": "markdown",
   "metadata": {},
   "source": [
    "By looking at the difference in the Eout between no transformation and the transformation, we see that the overfit measure is always less than or equal to 0, so there is no overfitting occuring and thus a is wrong."
   ]
  },
  {
   "cell_type": "code",
   "execution_count": 20,
   "metadata": {},
   "outputs": [
    {
     "name": "stdout",
     "output_type": "stream",
     "text": [
      "0.6249999999999978\n"
     ]
    }
   ],
   "source": [
    "# investigate e\n",
    "print((1 - (0.07922272047832586 / 0.07972097658196313 )) * 100)\n"
   ]
  },
  {
   "cell_type": "markdown",
   "metadata": {},
   "source": [
    "Q10"
   ]
  },
  {
   "cell_type": "code",
   "execution_count": 21,
   "metadata": {},
   "outputs": [
    {
     "name": "stdout",
     "output_type": "stream",
     "text": [
      "lambda = 0.01 --> Ein = 0.004484304932735426 | Eout = 0.02830188679245283\n",
      "lambda = 1.00 --> Ein = 0.005124919923126201 | Eout = 0.025943396226415096\n"
     ]
    }
   ],
   "source": [
    "Ein_0, Eout_0 = run_regularized_linear_regression(lambda_value=0.01, one_versus_all=False, choice=1, choice1=5)\n",
    "Ein_1, Eout_1 = run_regularized_linear_regression(lambda_value=1, one_versus_all=False, choice=1, choice1=5)\n",
    "\n",
    "print(f\"lambda = 0.01 --> Ein = {Ein_0} | Eout = {Eout_0}\")\n",
    "print(f\"lambda = 1.00 --> Ein = {Ein_1} | Eout = {Eout_1}\")"
   ]
  },
  {
   "cell_type": "code",
   "execution_count": null,
   "metadata": {},
   "outputs": [],
   "source": []
  }
 ],
 "metadata": {
  "kernelspec": {
   "display_name": "Python 3",
   "language": "python",
   "name": "python3"
  },
  "language_info": {
   "codemirror_mode": {
    "name": "ipython",
    "version": 3
   },
   "file_extension": ".py",
   "mimetype": "text/x-python",
   "name": "python",
   "nbconvert_exporter": "python",
   "pygments_lexer": "ipython3",
   "version": "3.10.7"
  }
 },
 "nbformat": 4,
 "nbformat_minor": 2
}
