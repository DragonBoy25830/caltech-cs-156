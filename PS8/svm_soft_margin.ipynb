{
 "cells": [
  {
   "cell_type": "code",
   "execution_count": 1,
   "metadata": {},
   "outputs": [],
   "source": [
    "import numpy as np\n",
    "from sklearn import svm"
   ]
  },
  {
   "cell_type": "code",
   "execution_count": 2,
   "metadata": {},
   "outputs": [],
   "source": [
    "training_features = np.loadtxt(\"features.train\")\n",
    "testing_features = np.loadtxt(\"features.test\")"
   ]
  },
  {
   "cell_type": "code",
   "execution_count": 3,
   "metadata": {},
   "outputs": [],
   "source": [
    "def split_data(one_versus_all, dataset, choice1, choice2):\n",
    "    to_return = dataset\n",
    "    if not one_versus_all:\n",
    "        to_return = []\n",
    "        \n",
    "        for digit, intensity, symmetry in dataset:\n",
    "            if digit == choice1 or digit == choice2:\n",
    "                to_return.append([digit, intensity, symmetry])\n",
    "\n",
    "    to_return = np.array(to_return)\n",
    "    digits = to_return[:, 0]\n",
    "    intensity = to_return[:, 1]\n",
    "    symmetry = to_return[:, 2]\n",
    "    \n",
    "    return digits, intensity, symmetry"
   ]
  },
  {
   "cell_type": "code",
   "execution_count": 4,
   "metadata": {},
   "outputs": [],
   "source": [
    "def build_my_kernel(Q):\n",
    "    def my_kernel(xn, xm):\n",
    "        return (1 + np.dot(xn, xm.T)) ** Q\n",
    "    \n",
    "    return my_kernel"
   ]
  },
  {
   "cell_type": "code",
   "execution_count": 5,
   "metadata": {},
   "outputs": [],
   "source": [
    "def generate_one_versus_all_yn(digits, one_choice):\n",
    "    yn = np.ones(len(digits))\n",
    "    \n",
    "    for i, digit in enumerate(digits):\n",
    "        if digit != one_choice:\n",
    "            yn[i] = -1\n",
    "            \n",
    "    return np.array(yn)"
   ]
  },
  {
   "cell_type": "code",
   "execution_count": 6,
   "metadata": {},
   "outputs": [],
   "source": [
    "def parse_digits(digits, choice1, choice2):\n",
    "    result = []\n",
    "    \n",
    "    for digit in digits:\n",
    "        if digit == choice1 or digit == choice2:\n",
    "            result.append(digit)\n",
    "            \n",
    "    return digits"
   ]
  },
  {
   "cell_type": "code",
   "execution_count": 7,
   "metadata": {},
   "outputs": [],
   "source": [
    "def generate_one_versus_one_yn(digits, choice1, choice2):\n",
    "    parsed_digits = parse_digits(digits, choice1, choice2)\n",
    "    yn = np.ones(len(parsed_digits))\n",
    "    \n",
    "    for i, digit in enumerate(digits):\n",
    "        if digit == choice2:\n",
    "            yn[i] = -1\n",
    "    \n",
    "    return yn"
   ]
  },
  {
   "cell_type": "code",
   "execution_count": 8,
   "metadata": {},
   "outputs": [],
   "source": [
    "def calc_error(yn, y_pred):\n",
    "    # misclassified points are opposite sign so will be -1 when multiplied\n",
    "    error = yn * y_pred\n",
    "    return np.count_nonzero(error == -1) / len(yn)"
   ]
  },
  {
   "cell_type": "code",
   "execution_count": 9,
   "metadata": {},
   "outputs": [],
   "source": [
    "def run_svm(one_versus_all, choice, choice1=-1, C=0.01, Q=2):\n",
    "    digits_train, intensities_train, symmetries_train = split_data(one_versus_all, training_features, choice, choice1)\n",
    "    digits_test, intensities_test, symmetries_test = split_data(one_versus_all, testing_features, choice, choice1)\n",
    "    \n",
    "    if (one_versus_all):\n",
    "        yn_train = generate_one_versus_all_yn(digits_train, choice)\n",
    "        yn_test = generate_one_versus_all_yn(digits_test, choice)\n",
    "    \n",
    "    else:\n",
    "        yn_train = generate_one_versus_one_yn(digits_train, choice, choice1)\n",
    "        yn_test = generate_one_versus_one_yn(digits_test, choice, choice1)\n",
    "\n",
    "    xn_train = np.column_stack((intensities_train, symmetries_train))\n",
    "    xn_test= np.column_stack((intensities_test, symmetries_test))\n",
    "    model = svm.SVC(C=C, kernel=build_my_kernel(Q), degree=Q, gamma=1)\n",
    "    model.fit(xn_train, yn_train)\n",
    "    \n",
    "    y_train_pred = model.predict(xn_train)\n",
    "    y_test_pred = model.predict(xn_test)\n",
    "    \n",
    "    Ein = calc_error(yn_train, np.array(y_train_pred))\n",
    "    Eout = calc_error(yn_test, np.array(y_test_pred))\n",
    "    \n",
    "    return Ein, np.sum(model.n_support_), Eout"
   ]
  },
  {
   "cell_type": "markdown",
   "metadata": {},
   "source": [
    "Q2"
   ]
  },
  {
   "cell_type": "code",
   "execution_count": 11,
   "metadata": {},
   "outputs": [
    {
     "name": "stdout",
     "output_type": "stream",
     "text": [
      "E_in for 0 vs. all: 0.10588396653408312\n",
      "E_in for 2 vs. all: 0.10026059525442327\n",
      "E_in for 4 vs. all: 0.08942531888629818\n",
      "E_in for 6 vs. all: 0.09107118365107666\n",
      "E_in for 8 vs. all: 0.07433822520916199\n"
     ]
    }
   ],
   "source": [
    "choices = [0, 2, 4, 6, 8]\n",
    "\n",
    "for choice in choices:\n",
    "    Ein, _, _ = run_svm(True, choice)\n",
    "    print(f\"E_in for {choice} vs. all: {Ein}\")"
   ]
  },
  {
   "cell_type": "markdown",
   "metadata": {},
   "source": [
    "Q3"
   ]
  },
  {
   "cell_type": "code",
   "execution_count": 12,
   "metadata": {},
   "outputs": [
    {
     "name": "stdout",
     "output_type": "stream",
     "text": [
      "E_in for 1 vs. all: 0.014401316691811822\n",
      "E_in for 3 vs. all: 0.09024825126868742\n",
      "E_in for 5 vs. all: 0.07625840076807022\n",
      "E_in for 7 vs. all: 0.08846523110684405\n",
      "E_in for 9 vs. all: 0.08832807570977919\n"
     ]
    }
   ],
   "source": [
    "choices = [1, 3, 5, 7, 9]\n",
    "\n",
    "for choice in choices:\n",
    "    Ein, _, _ = run_svm(True, choice)\n",
    "    print(f\"E_in for {choice} vs. all: {Ein}\")"
   ]
  },
  {
   "cell_type": "markdown",
   "metadata": {},
   "source": [
    "Q4"
   ]
  },
  {
   "cell_type": "code",
   "execution_count": 13,
   "metadata": {},
   "outputs": [
    {
     "name": "stdout",
     "output_type": "stream",
     "text": [
      "# support vectors for 9 vs. all: 2179\n"
     ]
    }
   ],
   "source": [
    "choice_from_q2 = 0\n",
    "\n",
    "_, n_svs, _ = run_svm(True, choice_from_q2)\n",
    "print(f\"# support vectors for {choice} vs. all: {n_svs}\")"
   ]
  },
  {
   "cell_type": "code",
   "execution_count": 14,
   "metadata": {},
   "outputs": [
    {
     "name": "stdout",
     "output_type": "stream",
     "text": [
      "# support vectors for 9 vs. all: 386\n"
     ]
    }
   ],
   "source": [
    "choice_from_q3 = 1\n",
    "\n",
    "_, n_svs, _ = run_svm(True, choice_from_q3)\n",
    "print(f\"# support vectors for {choice} vs. all: {n_svs}\")"
   ]
  },
  {
   "cell_type": "code",
   "execution_count": 22,
   "metadata": {},
   "outputs": [
    {
     "data": {
      "text/plain": [
       "1793"
      ]
     },
     "execution_count": 22,
     "metadata": {},
     "output_type": "execute_result"
    }
   ],
   "source": [
    "2179 - 386"
   ]
  },
  {
   "cell_type": "markdown",
   "metadata": {},
   "source": [
    "Q5"
   ]
  },
  {
   "cell_type": "code",
   "execution_count": 15,
   "metadata": {},
   "outputs": [
    {
     "name": "stdout",
     "output_type": "stream",
     "text": [
      "# support vectors for C=0.001: 76\n",
      "# support vectors for C=0.01: 34\n",
      "# support vectors for C=0.1: 24\n",
      "# support vectors for C=1: 24\n"
     ]
    }
   ],
   "source": [
    "# investigate a and b\n",
    "C = [0.001, 0.01, 0.1, 1]\n",
    "\n",
    "for c in C:\n",
    "    _, n_svs, _ = run_svm(False, 1, 5, c)\n",
    "    print(f\"# support vectors for C={c}: {n_svs}\")"
   ]
  },
  {
   "cell_type": "code",
   "execution_count": 16,
   "metadata": {},
   "outputs": [
    {
     "name": "stdout",
     "output_type": "stream",
     "text": [
      "E_out C=0.001: 0.01650943396226415\n",
      "E_out C=0.01: 0.018867924528301886\n",
      "E_out C=0.1: 0.018867924528301886\n",
      "E_out C=1: 0.018867924528301886\n"
     ]
    }
   ],
   "source": [
    "# investigate c\n",
    "for c in C:\n",
    "    _, _, E_out = run_svm(False, 1, 5, c)\n",
    "    print(f\"E_out C={c}: {E_out}\")"
   ]
  },
  {
   "cell_type": "code",
   "execution_count": 17,
   "metadata": {},
   "outputs": [
    {
     "name": "stdout",
     "output_type": "stream",
     "text": [
      "E_in C=0.001: 0.004484304932735426\n",
      "E_in C=0.01: 0.004484304932735426\n",
      "E_in C=0.1: 0.004484304932735426\n",
      "E_in C=1: 0.0032030749519538757\n"
     ]
    }
   ],
   "source": [
    "# investigate d\n",
    "for c in C:\n",
    "    E_in, _, _ = run_svm(False, 1, 5, c)\n",
    "    print(f\"E_in C={c}: {E_in}\")"
   ]
  },
  {
   "cell_type": "markdown",
   "metadata": {},
   "source": [
    "Q6"
   ]
  },
  {
   "cell_type": "code",
   "execution_count": 18,
   "metadata": {},
   "outputs": [
    {
     "name": "stdout",
     "output_type": "stream",
     "text": [
      "E_in for C=0.0001 and Q=2: 0.008968609865470852\n",
      "E_in for C=0.0001 and Q=5: 0.004484304932735426\n"
     ]
    }
   ],
   "source": [
    "# investigate a\n",
    "E_in, _, _ = run_svm(False, 1, 5, 0.0001)\n",
    "print(f\"E_in for C=0.0001 and Q=2: {E_in}\")\n",
    "E_in, _, _ = run_svm(False, 1, 5, 0.0001, 5)\n",
    "print(f\"E_in for C=0.0001 and Q=5: {E_in}\")"
   ]
  },
  {
   "cell_type": "code",
   "execution_count": 19,
   "metadata": {},
   "outputs": [
    {
     "name": "stdout",
     "output_type": "stream",
     "text": [
      "# support vectors for C=0.001 and Q=2: 76\n",
      "# support vectors for C=0.001 and Q=5: 25\n"
     ]
    }
   ],
   "source": [
    "# investigate b\n",
    "_, n_svm, _ = run_svm(False, 1, 5, 0.001)\n",
    "print(f\"# support vectors for C=0.001 and Q=2: {n_svm}\")\n",
    "_, n_svm, _ = run_svm(False, 1, 5, 0.001, 5)\n",
    "print(f\"# support vectors for C=0.001 and Q=5: {n_svm}\")"
   ]
  },
  {
   "cell_type": "code",
   "execution_count": 20,
   "metadata": {},
   "outputs": [
    {
     "name": "stdout",
     "output_type": "stream",
     "text": [
      "E_in for C=0.01 and Q=2: 0.004484304932735426\n",
      "E_in for C=0.01 and Q=5: 0.003843689942344651\n"
     ]
    }
   ],
   "source": [
    "# investigate c\n",
    "E_in, _, _ = run_svm(False, 1, 5, 0.01)\n",
    "print(f\"E_in for C=0.01 and Q=2: {E_in}\")\n",
    "E_in, _, _ = run_svm(False, 1, 5, 0.01, 5)\n",
    "print(f\"E_in for C=0.01 and Q=5: {E_in}\")"
   ]
  },
  {
   "cell_type": "code",
   "execution_count": 23,
   "metadata": {},
   "outputs": [
    {
     "name": "stdout",
     "output_type": "stream",
     "text": [
      "E_out for C=1 and Q=2: 0.018867924528301886\n",
      "E_out for C=1 and Q=5: 0.02122641509433962\n"
     ]
    }
   ],
   "source": [
    "# investigate d\n",
    "_, _, E_out = run_svm(False, 1, 5, 1)\n",
    "print(f\"E_out for C=1 and Q=2: {E_out}\")\n",
    "_, _, E_out = run_svm(False, 1, 5, 1, 5)\n",
    "print(f\"E_out for C=1 and Q=5: {E_out}\")"
   ]
  },
  {
   "cell_type": "code",
   "execution_count": null,
   "metadata": {},
   "outputs": [],
   "source": []
  }
 ],
 "metadata": {
  "kernelspec": {
   "display_name": "Python 3",
   "language": "python",
   "name": "python3"
  },
  "language_info": {
   "codemirror_mode": {
    "name": "ipython",
    "version": 3
   },
   "file_extension": ".py",
   "mimetype": "text/x-python",
   "name": "python",
   "nbconvert_exporter": "python",
   "pygments_lexer": "ipython3",
   "version": "3.10.7"
  }
 },
 "nbformat": 4,
 "nbformat_minor": 2
}
