{
 "cells": [
  {
   "cell_type": "code",
   "execution_count": 62,
   "metadata": {},
   "outputs": [],
   "source": [
    "import numpy as np\n",
    "from sklearn import svm"
   ]
  },
  {
   "cell_type": "code",
   "execution_count": 63,
   "metadata": {},
   "outputs": [],
   "source": [
    "import numpy as np\n",
    "from sklearn import svm"
   ]
  },
  {
   "cell_type": "code",
   "execution_count": 64,
   "metadata": {},
   "outputs": [],
   "source": [
    "training_features = np.loadtxt(\"features.train\")\n",
    "testing_features = np.loadtxt(\"features.test\")"
   ]
  },
  {
   "cell_type": "code",
   "execution_count": 65,
   "metadata": {},
   "outputs": [],
   "source": [
    "def build_my_kernel(Q):\n",
    "    def my_kernel(xn, xm):\n",
    "        return (1 + np.dot(xn, xm.T)) ** Q\n",
    "    \n",
    "    return my_kernel"
   ]
  },
  {
   "cell_type": "code",
   "execution_count": 66,
   "metadata": {},
   "outputs": [],
   "source": [
    "def generate_one_versus_all_yn(digits, one_choice):\n",
    "    yn = np.ones(len(digits))\n",
    "    \n",
    "    for i, digit in enumerate(digits):\n",
    "        if digit != one_choice:\n",
    "            yn[i] = -1\n",
    "            \n",
    "    return np.array(yn)"
   ]
  },
  {
   "cell_type": "code",
   "execution_count": 67,
   "metadata": {},
   "outputs": [],
   "source": [
    "def parse_digits(digits, choice1, choice2):\n",
    "    result = []\n",
    "    \n",
    "    for digit in digits:\n",
    "        if digit == choice1 or digit == choice2:\n",
    "            result.append(digit)\n",
    "            \n",
    "    return digits"
   ]
  },
  {
   "cell_type": "code",
   "execution_count": 68,
   "metadata": {},
   "outputs": [],
   "source": [
    "def generate_one_versus_one_yn(digits, choice1, choice2):\n",
    "    parsed_digits = parse_digits(digits, choice1, choice2)\n",
    "    yn = np.ones(len(parsed_digits))\n",
    "    \n",
    "    for i, digit in enumerate(digits):\n",
    "        if digit == choice2:\n",
    "            yn[i] = -1\n",
    "    \n",
    "    return yn"
   ]
  },
  {
   "cell_type": "code",
   "execution_count": 69,
   "metadata": {},
   "outputs": [],
   "source": [
    "def calc_error(yn, y_pred):\n",
    "    # misclassified points are opposite sign so will be -1 when multiplied\n",
    "    error = yn * y_pred\n",
    "    return np.count_nonzero(error == -1) / len(yn)"
   ]
  },
  {
   "cell_type": "code",
   "execution_count": 70,
   "metadata": {},
   "outputs": [],
   "source": [
    "def split_data(one_versus_all, dataset, choice1, choice2):\n",
    "    to_return = dataset\n",
    "    if not one_versus_all:\n",
    "        to_return = []\n",
    "        \n",
    "        for digit, intensity, symmetry in dataset:\n",
    "            if digit == choice1 or digit == choice2:\n",
    "                to_return.append([digit, intensity, symmetry])\n",
    "\n",
    "    to_return = np.array(to_return)\n",
    "    digits = to_return[:, 0]\n",
    "    intensity = to_return[:, 1]\n",
    "    symmetry = to_return[:, 2]\n",
    "    \n",
    "    return digits, intensity, symmetry"
   ]
  },
  {
   "cell_type": "code",
   "execution_count": 71,
   "metadata": {},
   "outputs": [],
   "source": [
    "def my_kernel(xn, xm):\n",
    "    return np.exp(-1 * np.linalg.norm(xn - xm) ** 2)"
   ]
  },
  {
   "cell_type": "code",
   "execution_count": 73,
   "metadata": {},
   "outputs": [],
   "source": [
    "def generate_one_versus_all_yn(digits, one_choice):\n",
    "    yn = np.ones(len(digits))\n",
    "    \n",
    "    for i, digit in enumerate(digits):\n",
    "        if digit != one_choice:\n",
    "            yn[i] = -1\n",
    "            \n",
    "    return np.array(yn)"
   ]
  },
  {
   "cell_type": "code",
   "execution_count": 74,
   "metadata": {},
   "outputs": [],
   "source": [
    "def parse_digits(digits, choice1, choice2):\n",
    "    result = []\n",
    "    \n",
    "    for digit in digits:\n",
    "        if digit == choice1 or digit == choice2:\n",
    "            result.append(digit)\n",
    "            \n",
    "    return digits"
   ]
  },
  {
   "cell_type": "code",
   "execution_count": 75,
   "metadata": {},
   "outputs": [],
   "source": [
    "def generate_one_versus_one_yn(digits, choice1, choice2):\n",
    "    parsed_digits = parse_digits(digits, choice1, choice2)\n",
    "    yn = np.ones(len(parsed_digits))\n",
    "    \n",
    "    for i, digit in enumerate(digits):\n",
    "        if digit == choice2:\n",
    "            yn[i] = -1\n",
    "    \n",
    "    return yn"
   ]
  },
  {
   "cell_type": "code",
   "execution_count": 76,
   "metadata": {},
   "outputs": [],
   "source": [
    "def calc_error(yn, y_pred):\n",
    "    # misclassified points are opposite sign so will be -1 when multiplied\n",
    "    error = yn * y_pred\n",
    "    return np.count_nonzero(error == -1) / len(yn)"
   ]
  },
  {
   "cell_type": "code",
   "execution_count": 81,
   "metadata": {},
   "outputs": [],
   "source": [
    "def run_svm(one_versus_all, choice, choice1=-1, C=0.01, Q=2):\n",
    "    digits_train, intensities_train, symmetries_train = split_data(one_versus_all, training_features, choice, choice1)\n",
    "    digits_test, intensities_test, symmetries_test = split_data(one_versus_all, testing_features, choice, choice1)\n",
    "    \n",
    "    if (one_versus_all):\n",
    "        yn_train = generate_one_versus_all_yn(digits_train, choice)\n",
    "        yn_test = generate_one_versus_all_yn(digits_test, choice)\n",
    "    \n",
    "    else:\n",
    "        yn_train = generate_one_versus_one_yn(digits_train, choice, choice1)\n",
    "        yn_test = generate_one_versus_one_yn(digits_test, choice, choice1)\n",
    "\n",
    "    xn_train = np.column_stack((intensities_train, symmetries_train))\n",
    "    xn_test= np.column_stack((intensities_test, symmetries_test))\n",
    "    model = svm.SVC(C=C, kernel='rbf', gamma=1)\n",
    "    model.fit(xn_train, yn_train)\n",
    "    \n",
    "    y_train_pred = model.predict(xn_train)\n",
    "    y_test_pred = model.predict(xn_test)\n",
    "    \n",
    "    Ein = calc_error(yn_train, np.array(y_train_pred))\n",
    "    Eout = calc_error(yn_test, np.array(y_test_pred))\n",
    "    \n",
    "    return Ein, np.sum(model.n_support_), Eout"
   ]
  },
  {
   "cell_type": "markdown",
   "metadata": {},
   "source": [
    "Q9"
   ]
  },
  {
   "cell_type": "code",
   "execution_count": 82,
   "metadata": {},
   "outputs": [
    {
     "name": "stdout",
     "output_type": "stream",
     "text": [
      "E_in for C=0.01: 0.003843689942344651\n",
      "E_in for C=1: 0.004484304932735426\n",
      "E_in for C=100: 0.0032030749519538757\n",
      "E_in for C=10000.0: 0.0025624599615631004\n",
      "E_in for C=1000000.0: 0.0006406149903907751\n"
     ]
    }
   ],
   "source": [
    "C = [0.01, 1, 100, 1e4, 1e6]\n",
    "\n",
    "for c in C:\n",
    "    E_in, _, _ = run_svm(False, 1, 5, c)\n",
    "    print(f\"E_in for C={c}: {E_in}\")"
   ]
  },
  {
   "cell_type": "markdown",
   "metadata": {},
   "source": [
    "Q10"
   ]
  },
  {
   "cell_type": "code",
   "execution_count": 83,
   "metadata": {},
   "outputs": [
    {
     "name": "stdout",
     "output_type": "stream",
     "text": [
      "E_out for C=0.01: 0.02358490566037736\n",
      "E_out for C=1: 0.02122641509433962\n",
      "E_out for C=100: 0.018867924528301886\n",
      "E_out for C=10000.0: 0.02358490566037736\n",
      "E_out for C=1000000.0: 0.02358490566037736\n"
     ]
    }
   ],
   "source": [
    "for c in C:\n",
    "    _, _, E_out = run_svm(False, 1, 5, c)\n",
    "    print(f\"E_out for C={c}: {E_out}\")"
   ]
  },
  {
   "cell_type": "code",
   "execution_count": null,
   "metadata": {},
   "outputs": [],
   "source": []
  }
 ],
 "metadata": {
  "kernelspec": {
   "display_name": "Python 3",
   "language": "python",
   "name": "python3"
  },
  "language_info": {
   "codemirror_mode": {
    "name": "ipython",
    "version": 3
   },
   "file_extension": ".py",
   "mimetype": "text/x-python",
   "name": "python",
   "nbconvert_exporter": "python",
   "pygments_lexer": "ipython3",
   "version": "3.10.7"
  }
 },
 "nbformat": 4,
 "nbformat_minor": 2
}
