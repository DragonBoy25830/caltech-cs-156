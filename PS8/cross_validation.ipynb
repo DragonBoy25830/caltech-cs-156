{
 "cells": [
  {
   "cell_type": "code",
   "execution_count": 1,
   "metadata": {},
   "outputs": [],
   "source": [
    "import numpy as np\n",
    "from sklearn import svm\n",
    "from sklearn.model_selection import cross_val_score\n",
    "from sklearn.model_selection import KFold"
   ]
  },
  {
   "cell_type": "code",
   "execution_count": 2,
   "metadata": {},
   "outputs": [],
   "source": [
    "training_features = np.loadtxt(\"features.train\")\n",
    "testing_features = np.loadtxt(\"features.test\")"
   ]
  },
  {
   "cell_type": "code",
   "execution_count": 3,
   "metadata": {},
   "outputs": [],
   "source": [
    "def split_data(one_versus_all, dataset, choice1, choice2):\n",
    "    to_return = dataset\n",
    "    if not one_versus_all:\n",
    "        to_return = []\n",
    "        \n",
    "        for digit, intensity, symmetry in dataset:\n",
    "            if digit == choice1 or digit == choice2:\n",
    "                to_return.append([digit, intensity, symmetry])\n",
    "\n",
    "    to_return = np.array(to_return)\n",
    "    digits = to_return[:, 0]\n",
    "    intensity = to_return[:, 1]\n",
    "    symmetry = to_return[:, 2]\n",
    "    \n",
    "    return digits, intensity, symmetry"
   ]
  },
  {
   "cell_type": "code",
   "execution_count": 4,
   "metadata": {},
   "outputs": [],
   "source": [
    "def build_my_kernel(Q):\n",
    "    def my_kernel(xn, xm):\n",
    "        return (1 + np.dot(xn, xm.T)) ** Q\n",
    "    \n",
    "    return my_kernel"
   ]
  },
  {
   "cell_type": "code",
   "execution_count": 5,
   "metadata": {},
   "outputs": [],
   "source": [
    "def generate_one_versus_all_yn(digits, one_choice):\n",
    "    yn = np.ones(len(digits))\n",
    "    \n",
    "    for i, digit in enumerate(digits):\n",
    "        if digit != one_choice:\n",
    "            yn[i] = -1\n",
    "            \n",
    "    return np.array(yn)"
   ]
  },
  {
   "cell_type": "code",
   "execution_count": 6,
   "metadata": {},
   "outputs": [],
   "source": [
    "def parse_digits(digits, choice1, choice2):\n",
    "    result = []\n",
    "    \n",
    "    for digit in digits:\n",
    "        if digit == choice1 or digit == choice2:\n",
    "            result.append(digit)\n",
    "            \n",
    "    return digits"
   ]
  },
  {
   "cell_type": "code",
   "execution_count": 7,
   "metadata": {},
   "outputs": [],
   "source": [
    "def generate_one_versus_one_yn(digits, choice1, choice2):\n",
    "    parsed_digits = parse_digits(digits, choice1, choice2)\n",
    "    yn = np.ones(len(parsed_digits))\n",
    "    \n",
    "    for i, digit in enumerate(digits):\n",
    "        if digit == choice2:\n",
    "            yn[i] = -1\n",
    "    \n",
    "    return yn"
   ]
  },
  {
   "cell_type": "code",
   "execution_count": 8,
   "metadata": {},
   "outputs": [],
   "source": [
    "def calc_error(yn, y_pred):\n",
    "    # misclassified points are opposite sign so will be -1 when multiplied\n",
    "    error = yn * y_pred\n",
    "    return np.count_nonzero(error == -1) / len(yn)"
   ]
  },
  {
   "cell_type": "code",
   "execution_count": 33,
   "metadata": {},
   "outputs": [],
   "source": [
    "def run_svm(one_versus_all, choice, choice1=-1, C=0.01, Q=2):\n",
    "    digits_train, intensities_train, symmetries_train = split_data(one_versus_all, training_features, choice, choice1)\n",
    "    digits_test, intensities_test, symmetries_test = split_data(one_versus_all, testing_features, choice, choice1)\n",
    "    \n",
    "    if (one_versus_all):\n",
    "        yn_train = generate_one_versus_all_yn(digits_train, choice)\n",
    "        yn_test = generate_one_versus_all_yn(digits_test, choice)\n",
    "    \n",
    "    else:\n",
    "        yn_train = generate_one_versus_one_yn(digits_train, choice, choice1)\n",
    "        yn_test = generate_one_versus_one_yn(digits_test, choice, choice1)\n",
    "\n",
    "    xn_train = np.column_stack((intensities_train, symmetries_train))\n",
    "    xn_test= np.column_stack((intensities_test, symmetries_test))\n",
    "    model = svm.SVC(C=C, kernel='poly', degree=Q, gamma=1)\n",
    "    model.fit(xn_train, yn_train)\n",
    "    \n",
    "    y_train_pred = model.predict(xn_train)\n",
    "    y_test_pred = model.predict(xn_test)\n",
    "    \n",
    "    error = cross_val_score(model, xn_train, yn_train)\n",
    "    \n",
    "    return error"
   ]
  },
  {
   "cell_type": "code",
   "execution_count": 34,
   "metadata": {},
   "outputs": [
    {
     "data": {
      "text/plain": [
       "[0, 0, 0, 0, 100]"
      ]
     },
     "execution_count": 34,
     "metadata": {},
     "output_type": "execute_result"
    }
   ],
   "source": [
    "C = [0.0001, 0.001, 0.01, 0.1, 1]\n",
    "result = [0, 0, 0, 0, 0]\n",
    "\n",
    "for i in range(100):\n",
    "    Ecv_arr = []\n",
    "    \n",
    "    for c in C:\n",
    "        Ecv = run_svm(False, 1, 5, c)\n",
    "        Ecv_arr.append(Ecv)\n",
    "    \n",
    "    result[np.argmin(Ecv_arr)] += 1\n",
    "\n",
    "result"
   ]
  },
  {
   "cell_type": "code",
   "execution_count": 35,
   "metadata": {},
   "outputs": [
    {
     "data": {
      "text/plain": [
       "0.9833893557422969"
      ]
     },
     "execution_count": 35,
     "metadata": {},
     "output_type": "execute_result"
    }
   ],
   "source": [
    "Ecv_arr = []\n",
    "\n",
    "for i in range(100):\n",
    "    for c in C:\n",
    "        Ecv = run_svm(False, 1, 5, 1)\n",
    "        Ecv_arr.append(Ecv)\n",
    "\n",
    "np.mean(Ecv_arr)"
   ]
  },
  {
   "cell_type": "code",
   "execution_count": 36,
   "metadata": {},
   "outputs": [
    {
     "data": {
      "text/plain": [
       "0.01661064425770309"
      ]
     },
     "execution_count": 36,
     "metadata": {},
     "output_type": "execute_result"
    }
   ],
   "source": [
    "1 - 0.9833893557422969"
   ]
  },
  {
   "cell_type": "code",
   "execution_count": null,
   "metadata": {},
   "outputs": [],
   "source": []
  }
 ],
 "metadata": {
  "kernelspec": {
   "display_name": "Python 3",
   "language": "python",
   "name": "python3"
  },
  "language_info": {
   "codemirror_mode": {
    "name": "ipython",
    "version": 3
   },
   "file_extension": ".py",
   "mimetype": "text/x-python",
   "name": "python",
   "nbconvert_exporter": "python",
   "pygments_lexer": "ipython3",
   "version": "3.10.7"
  }
 },
 "nbformat": 4,
 "nbformat_minor": 2
}
